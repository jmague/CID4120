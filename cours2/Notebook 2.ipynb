{
 "cells": [
  {
   "cell_type": "markdown",
   "metadata": {},
   "source": [
    "# Traitement de données textuelles en Python\n",
    "## Expresssions régulières"
   ]
  },
  {
   "cell_type": "code",
   "execution_count": 2,
   "metadata": {
    "execution": {
     "iopub.execute_input": "2021-03-26T05:45:42.374202Z",
     "iopub.status.busy": "2021-03-26T05:45:42.373665Z",
     "iopub.status.idle": "2021-03-26T05:45:42.379500Z",
     "shell.execute_reply": "2021-03-26T05:45:42.378603Z",
     "shell.execute_reply.started": "2021-03-26T05:45:42.374168Z"
    }
   },
   "outputs": [],
   "source": [
    "import re #On importe la bibliothèqe re, pour regular expressions, qui permet de manipuler des expressions régulières en python"
   ]
  },
  {
   "cell_type": "code",
   "execution_count": 2,
   "metadata": {},
   "outputs": [
    {
     "data": {
      "text/plain": [
       "<re.Match object; span=(0, 1), match='a'>"
      ]
     },
     "execution_count": 2,
     "metadata": {},
     "output_type": "execute_result"
    }
   ],
   "source": [
    "regex='a' \n",
    "s='a'\n",
    "re.fullmatch(regex,s)#la fonction fullmatch permet de vérifier si une chaîne correspond bien a une expression régulière"
   ]
  },
  {
   "cell_type": "code",
   "execution_count": 3,
   "metadata": {},
   "outputs": [
    {
     "data": {
      "text/plain": [
       "<re.Match object; span=(0, 1), match='B'>"
      ]
     },
     "execution_count": 3,
     "metadata": {},
     "output_type": "execute_result"
    }
   ],
   "source": [
    "regex='.' \n",
    "s='B'\n",
    "re.fullmatch(regex,s)"
   ]
  },
  {
   "cell_type": "markdown",
   "metadata": {},
   "source": [
    "### Préambule 1\n",
    "La fonction `finditer` permet de repérer toutes les sous-chaînes correspondant à une expression régulière et de les parcourir:"
   ]
  },
  {
   "cell_type": "code",
   "execution_count": 4,
   "metadata": {},
   "outputs": [
    {
     "data": {
      "text/plain": [
       "968"
      ]
     },
     "execution_count": 4,
     "metadata": {},
     "output_type": "execute_result"
    }
   ],
   "source": [
    "texte = open('LAvare.txt').read()\n",
    "liste=[]\n",
    "for personnage in re.finditer(\"- .* -\", texte):\n",
    "    liste.append(texte[personnage.start():personnage.end()])\n",
    "len(liste)"
   ]
  },
  {
   "cell_type": "code",
   "execution_count": 22,
   "metadata": {},
   "outputs": [
    {
     "data": {
      "text/plain": [
       "121297"
      ]
     },
     "execution_count": 22,
     "metadata": {},
     "output_type": "execute_result"
    }
   ],
   "source": [
    "personnage.end()"
   ]
  },
  {
   "cell_type": "code",
   "execution_count": 26,
   "metadata": {},
   "outputs": [
    {
     "data": {
      "text/plain": [
       "'- Harpagon -'"
      ]
     },
     "execution_count": 26,
     "metadata": {},
     "output_type": "execute_result"
    }
   ],
   "source": [
    "texte[121285:121297]"
   ]
  },
  {
   "cell_type": "markdown",
   "metadata": {},
   "source": [
    "### Préambule 2"
   ]
  },
  {
   "cell_type": "markdown",
   "metadata": {},
   "source": [
    "Les parenthèses dans les expressions régulières définissent des *groupes* auxquels on peut par la suite se référer:"
   ]
  },
  {
   "cell_type": "code",
   "execution_count": 6,
   "metadata": {},
   "outputs": [
    {
     "data": {
      "text/plain": [
       "968"
      ]
     },
     "execution_count": 6,
     "metadata": {},
     "output_type": "execute_result"
    }
   ],
   "source": [
    "liste=[]\n",
    "for personnage in re.finditer(\"- (.*) -\", texte):\n",
    "    liste.append(personnage.group(1))\n",
    "len(liste)"
   ]
  },
  {
   "cell_type": "markdown",
   "metadata": {},
   "source": [
    "### Préambule 3\n",
    "Par défaut, en Python, le . correspond à n'importe quel caractère *sauf* le retour à la ligne"
   ]
  },
  {
   "cell_type": "code",
   "execution_count": 8,
   "metadata": {},
   "outputs": [
    {
     "data": {
      "text/plain": [
       "3115"
      ]
     },
     "execution_count": 8,
     "metadata": {},
     "output_type": "execute_result"
    }
   ],
   "source": [
    "liste=[]\n",
    "for match in re.finditer(\".+\", texte):\n",
    "    liste.append(match)\n",
    "len(liste)"
   ]
  },
  {
   "cell_type": "markdown",
   "metadata": {},
   "source": [
    "On peut modifier ce comportement pour travailler sur des expressions régulière qui s'étendent sur plusieurs lignes :"
   ]
  },
  {
   "cell_type": "code",
   "execution_count": 10,
   "metadata": {},
   "outputs": [
    {
     "data": {
      "text/plain": [
       "1"
      ]
     },
     "execution_count": 10,
     "metadata": {},
     "output_type": "execute_result"
    }
   ],
   "source": [
    "liste=[]\n",
    "for match in re.finditer(\".+\", texte, re.DOTALL):\n",
    "    liste.append(match)\n",
    "len(liste)"
   ]
  },
  {
   "cell_type": "markdown",
   "metadata": {},
   "source": [
    "### Exercice 1\n",
    "Quelle est l'expression régulière qui permet de décrire un acte ? Quelle est l'expression régulière qui permet de décrire un acte tout en isolant son titre de son texte ?\n",
    "\n",
    "Vous pouvez tatonner ici : https://regex101.com/r/UZvZCl/3\n",
    "\n",
    "Ecrire une fonction qui construit un dictionnaire `pièce` qui associe à chaque titre d'acte son texte :\n",
    "\n",
    "```python\n",
    "{\n",
    "    'ACTE PREMIER' : '''Scène première\n",
    "                        - Valère -\n",
    "                        Hé quoi ! charmante Élise, vous devenez mélancolique, après les\n",
    "                        obligeantes assurances que vous avez eu la bonté de me donner de votre\n",
    "                        foi ? Je vous vois soupire...\n",
    "                     ''',\n",
    "    \"ACTE SECOND\" : \"\"\"Scène première\n",
    "                       - Cléante -\n",
    "                       Ah ! traître que tu es ! où ...\n",
    "                    \"\"\"\n",
    "}\n",
    "```"
   ]
  },
  {
   "cell_type": "code",
   "execution_count": null,
   "metadata": {},
   "outputs": [],
   "source": []
  },
  {
   "cell_type": "markdown",
   "metadata": {},
   "source": [
    "### Exercice 2\n",
    "Quelle est l'expression régulière qui permet de décrire une scène ? Quelle est l'expression régulière qui permet de décrire une scène tout en isolant son titre de son texte ?\n",
    "\n",
    "\n",
    "Ecrire une fonction qui construit un dictionnaire `pièce` qui associe à chaque titre d'acte un dictionnaire qui associe à chaque titre de scène son texte :  \n",
    "\n",
    "```python\n",
    "{\n",
    "    'ACTE PREMIER' : {'Scène première' : \"\"\"- Valère -\n",
    "                                            Hé quoi ! charmante Élise, vous devenez mélancolique, après les\n",
    "                                            obligeantes assurances que vous avez eu la bonté de me donner de votre\n",
    "                                            foi ? Je vous vois soupire...\n",
    "                                         \"\"\",\n",
    "                      'Scène II': \"\"\"- Cléante -\n",
    "                                     Je suis bien aise de vous trouver seule, ma soeur ; et je brûlais de\n",
    "                                     vous parler, pour ...\n",
    "                                     \"\"\"\n",
    "                      }\n",
    "    \"ACTE SECOND\" : {'Scène première':\"\"\"- Cléante -\n",
    "                                         Ah ! traître que tu es ! où ...\n",
    "                                      \"\"\"\n",
    "                    }\n",
    "}\n",
    "```"
   ]
  },
  {
   "cell_type": "markdown",
   "metadata": {},
   "source": [
    "### Exercice 3\n",
    "Quelle est l'expression régulière qui permet de décrire une réplique ? Quelle est l'expression régulière qui permet de décrire une scène tout en isolant son personnage de son texte ?\n",
    "\n",
    "Ecrire une fonction qui construit la structure complète de la pièce :\n",
    "```python\n",
    "{\n",
    "    'ACTE PREMIER' : {'Scène première' : [{'personnage' : 'Valère',\n",
    "                                           'réplique' : \"\"\"Hé quoi ! charmante Élise, vous devenez mélancolique, après les\n",
    "                                                           obligeantes assurances que ...\n",
    "                                                         \"\"\"\n",
    "                                          },\n",
    "                                          {'personnage' : 'Élise',\n",
    "                                           'réplique' : \"\"\"Non, Valère, je ne puis pas me repentir de tout ce que je fais pour\n",
    "                                                           vous. Je m'y sens entraîner par une trop douce puissance, et je n'ai\n",
    "                                                           ...\n",
    "                                                         \"\"\"\n",
    "                                          }\n",
    "                                          ],\n",
    "                      'Scène II': [{'personnage': 'Cléante',\n",
    "                                  'réplique': \"\"\"Je suis bien aise de vous trouver seule, ma soeur ; et je brûlais de\n",
    "                                                 vous parler, pour m'ouvrir à vous d'un secret.\n",
    "                                              \"\"\"\n",
    "                                  },\n",
    "                                 {'personnage': 'Élise',\n",
    "                                  'réplique': \"Me voilà prête à vous ouïr, mon frère. Qu'avez-vous à me dire ?\"\n",
    "                                 }\n",
    "                                 ]\n",
    "                      }\n",
    "}\n",
    "```"
   ]
  },
  {
   "cell_type": "markdown",
   "metadata": {},
   "source": [
    "## Analyse des données\n",
    "Maintenant que l'on a construit notre représention de la pièce, on peut l'exploiter !\n",
    "### Exercice 4\n",
    "Constuire la liste des personnages de la pièce\n",
    "```python\n",
    "['Valère',\n",
    " 'Élise',\n",
    " 'Cléante',\n",
    " 'Harpagon',\n",
    " 'La Flèche',\n",
    " 'Maître Simon',\n",
    " 'Frosine',\n",
    " 'Maître Jacques',\n",
    " 'La Merluche',\n",
    " 'Brindavoine',\n",
    " 'Mariane',\n",
    " 'Le commissaire',\n",
    " 'Anselme']\n",
    "```"
   ]
  },
  {
   "cell_type": "code",
   "execution_count": 35,
   "metadata": {},
   "outputs": [],
   "source": []
  },
  {
   "cell_type": "markdown",
   "metadata": {},
   "source": [
    "### Exercice 5\n",
    "Constuire un dictionnaire qui associe à chaque personnage le nombre de caractères de l'ensemble de ses répliques\n",
    "```python\n",
    "{'Anselme': 2740,\n",
    " 'Brindavoine': 207,\n",
    " 'Cléante': 17264,\n",
    " 'Frosine': 12102,\n",
    " 'Harpagon': 31377,\n",
    " 'La Flèche': 8494,\n",
    " 'La Merluche': 289,\n",
    " 'Le commissaire': 1580,\n",
    " 'Mariane': 4753,\n",
    " 'Maître Jacques': 8545,\n",
    " 'Maître Simon': 971,\n",
    " 'Valère': 14220,\n",
    " 'Élise': 5568}\n",
    "```"
   ]
  },
  {
   "cell_type": "code",
   "execution_count": null,
   "metadata": {},
   "outputs": [],
   "source": []
  },
  {
   "cell_type": "markdown",
   "metadata": {},
   "source": [
    "### Exercice 6\n",
    "Constuire un dictionnaire qui associe à chaque personnage une liste de 5 nombres, correspondant au nombre de caractères de leurs répliques, acte par acte\n",
    "```python\n",
    "{'Anselme': [0, 0, 0, 0, 2740],\n",
    " 'Brindavoine': [0, 0, 207, 0, 0],\n",
    " 'Cléante': [5150, 2592, 3523, 5326, 673],\n",
    " 'Frosine': [0, 8340, 1520, 2214, 28],\n",
    " 'Harpagon': [9449, 3796, 6377, 5664, 6091],\n",
    " 'La Flèche': [1345, 6895, 0, 254, 0],\n",
    " 'La Merluche': [0, 0, 289, 0, 0],\n",
    " 'Le commissaire': [0, 0, 0, 0, 1580],\n",
    " 'Mariane': [0, 0, 2311, 1236, 1206],\n",
    " 'Maître Jacques': [0, 0, 5032, 1531, 1982],\n",
    " 'Maître Simon': [0, 971, 0, 0, 0],\n",
    " 'Valère': [6991, 0, 1951, 0, 5278],\n",
    " 'Élise': [4384, 0, 98, 331, 755]}\n",
    "```\n"
   ]
  },
  {
   "cell_type": "code",
   "execution_count": 46,
   "metadata": {},
   "outputs": [],
   "source": []
  },
  {
   "cell_type": "markdown",
   "metadata": {
    "tags": []
   },
   "source": [
    "## Conversion en JSON\n",
    "JSON est un format de fichier pour enregistré des données structurées très répandu. Nous allons l'utiliser pour conserver notre structuration de la pièce"
   ]
  },
  {
   "cell_type": "code",
   "execution_count": 8,
   "metadata": {
    "execution": {
     "iopub.execute_input": "2021-03-26T05:54:20.862795Z",
     "iopub.status.busy": "2021-03-26T05:54:20.862482Z",
     "iopub.status.idle": "2021-03-26T05:54:20.868729Z",
     "shell.execute_reply": "2021-03-26T05:54:20.866562Z",
     "shell.execute_reply.started": "2021-03-26T05:54:20.862765Z"
    },
    "tags": []
   },
   "outputs": [],
   "source": [
    "import json"
   ]
  },
  {
   "cell_type": "code",
   "execution_count": 9,
   "metadata": {
    "execution": {
     "iopub.execute_input": "2021-03-26T05:54:21.265766Z",
     "iopub.status.busy": "2021-03-26T05:54:21.265453Z",
     "iopub.status.idle": "2021-03-26T05:54:21.283919Z",
     "shell.execute_reply": "2021-03-26T05:54:21.282541Z",
     "shell.execute_reply.started": "2021-03-26T05:54:21.265734Z"
    },
    "tags": []
   },
   "outputs": [],
   "source": [
    "f=open('LAvare.json', 'w')\n",
    "f.write(json.dumps(pièce))\n",
    "f.close()"
   ]
  },
  {
   "cell_type": "markdown",
   "metadata": {},
   "source": [
    "On peut ensuite recharger les données"
   ]
  },
  {
   "cell_type": "code",
   "execution_count": 10,
   "metadata": {
    "execution": {
     "iopub.execute_input": "2021-03-26T05:55:10.230114Z",
     "iopub.status.busy": "2021-03-26T05:55:10.229615Z",
     "iopub.status.idle": "2021-03-26T05:55:10.239923Z",
     "shell.execute_reply": "2021-03-26T05:55:10.238891Z",
     "shell.execute_reply.started": "2021-03-26T05:55:10.230074Z"
    }
   },
   "outputs": [],
   "source": [
    "f=open('LAvare.json')\n",
    "pièce = json.loads(f.read())\n",
    "f.close()"
   ]
  }
 ],
 "metadata": {
  "kernelspec": {
   "display_name": "pywikibot",
   "language": "python",
   "name": "python3"
  },
  "language_info": {
   "codemirror_mode": {
    "name": "ipython",
    "version": 3
   },
   "file_extension": ".py",
   "mimetype": "text/x-python",
   "name": "python",
   "nbconvert_exporter": "python",
   "pygments_lexer": "ipython3",
   "version": "3.11.0"
  },
  "vscode": {
   "interpreter": {
    "hash": "1eb28796ec1b45da7ee6a92babb3e9fc7aac8e384c439f168e799c1603ba81e7"
   }
  }
 },
 "nbformat": 4,
 "nbformat_minor": 4
}
