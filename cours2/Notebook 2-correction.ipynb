{
 "cells": [
  {
   "cell_type": "markdown",
   "metadata": {},
   "source": [
    "# Traitement de données textuelles en Python\n",
    "## Expresssions régulières"
   ]
  },
  {
   "cell_type": "code",
   "execution_count": 2,
   "metadata": {
    "execution": {
     "iopub.execute_input": "2021-04-08T09:22:51.332800Z",
     "iopub.status.busy": "2021-04-08T09:22:51.331536Z",
     "iopub.status.idle": "2021-04-08T09:22:51.369098Z",
     "shell.execute_reply": "2021-04-08T09:22:51.365418Z",
     "shell.execute_reply.started": "2021-04-08T09:22:51.332741Z"
    }
   },
   "outputs": [],
   "source": [
    "import re #On importe la bibliothèqe re, pour regular expressions, qui permet de manipuler des expressions régulières en python"
   ]
  },
  {
   "cell_type": "code",
   "execution_count": null,
   "metadata": {},
   "outputs": [],
   "source": [
    "regex='a' \n",
    "s='a'\n",
    "re.fullmatch(regex,s)#la fonction fullmatch permet de vérifier si une chaîne correspond bien a une expression régulière"
   ]
  },
  {
   "cell_type": "code",
   "execution_count": null,
   "metadata": {},
   "outputs": [],
   "source": [
    "regex='.'\n",
    "s='B'\n",
    "re.fullmatch(regex,s)"
   ]
  },
  {
   "cell_type": "markdown",
   "metadata": {},
   "source": [
    "## Structuration de L'Avare"
   ]
  },
  {
   "cell_type": "markdown",
   "metadata": {},
   "source": [
    "### Préambule 1\n",
    "La fonction `finditer` permet de repérer toutes les sous-chaînes correspondant à une expression régulière et de les parcourir:"
   ]
  },
  {
   "cell_type": "code",
   "execution_count": 3,
   "metadata": {
    "execution": {
     "iopub.execute_input": "2021-04-08T09:22:55.209370Z",
     "iopub.status.busy": "2021-04-08T09:22:55.208859Z",
     "iopub.status.idle": "2021-04-08T09:22:55.250565Z",
     "shell.execute_reply": "2021-04-08T09:22:55.249448Z",
     "shell.execute_reply.started": "2021-04-08T09:22:55.209318Z"
    },
    "tags": []
   },
   "outputs": [
    {
     "data": {
      "text/plain": [
       "968"
      ]
     },
     "execution_count": 3,
     "metadata": {},
     "output_type": "execute_result"
    }
   ],
   "source": [
    "texte = open('LAvare-re.txt').read()\n",
    "liste=[]\n",
    "for personnage in re.finditer(\"- .*? -\", texte):\n",
    "    liste.append(texte[personnage.start():personnage.end()])\n",
    "len(liste)"
   ]
  },
  {
   "cell_type": "markdown",
   "metadata": {},
   "source": [
    "### Préambule 2"
   ]
  },
  {
   "cell_type": "markdown",
   "metadata": {},
   "source": [
    "Les parenthèses dans les expressions régulières définissent des *groupes* auxquels on peut par la suite se référer:"
   ]
  },
  {
   "cell_type": "code",
   "execution_count": null,
   "metadata": {},
   "outputs": [],
   "source": [
    "liste=[]\n",
    "for personnage in re.finditer(\"- (.*?) -\", texte):\n",
    "    liste.append(personnage.group(1))\n",
    "len(liste)"
   ]
  },
  {
   "cell_type": "markdown",
   "metadata": {},
   "source": [
    "### Préambule 3\n",
    "Par défaut, en Python, le . correspond à n'importe quel caractère *sauf* le retour à la ligne"
   ]
  },
  {
   "cell_type": "code",
   "execution_count": null,
   "metadata": {},
   "outputs": [],
   "source": [
    "liste=[]\n",
    "for match in re.finditer(\".+\", texte):\n",
    "    liste.append(match)\n",
    "len(liste)"
   ]
  },
  {
   "cell_type": "markdown",
   "metadata": {},
   "source": [
    "On peut modifier ce comportement pour travailler sur des expressions régulière qui s'étendent sur plusieurs lignes :"
   ]
  },
  {
   "cell_type": "code",
   "execution_count": null,
   "metadata": {},
   "outputs": [],
   "source": [
    "liste=[]\n",
    "for match in re.finditer(\".+\", texte, re.DOTALL):\n",
    "    liste.append(match)\n",
    "len(liste)"
   ]
  },
  {
   "cell_type": "markdown",
   "metadata": {},
   "source": [
    "### Exercice 1\n",
    "Quelle est l'expression régulière qui permet de décrire un acte ? Quelle est l'expression régulière qui permet de décrire un acte tout en isolant son titre de son texte ?\n",
    "\n",
    "Vous pouvez tatonner ici : https://regex101.com/r/UZvZCl/3\n",
    "\n",
    "Ecrire une fonction qui construit un dictionnaire `pièce` qui associe à chaque titre d'acte son texte :\n",
    "\n",
    "```python\n",
    "{\n",
    "    'ACTE PREMIER' : '''Scène première\n",
    "                        - Valère -\n",
    "                        Hé quoi ! charmante Élise, vous devenez mélancolique, après les\n",
    "                        obligeantes assurances que vous avez eu la bonté de me donner de votre\n",
    "                        foi ? Je vous vois soupire...\n",
    "                     ''',\n",
    "    \"ACTE SECOND\" : \"\"\"Scène première\n",
    "                       - Cléante -\n",
    "                       Ah ! traître que tu es ! où ...\n",
    "                    \"\"\"\n",
    "}\n",
    "```"
   ]
  },
  {
   "cell_type": "code",
   "execution_count": 3,
   "metadata": {
    "execution": {
     "iopub.execute_input": "2021-04-08T09:23:02.091567Z",
     "iopub.status.busy": "2021-04-08T09:23:02.091044Z",
     "iopub.status.idle": "2021-04-08T09:23:02.121140Z",
     "shell.execute_reply": "2021-04-08T09:23:02.113046Z",
     "shell.execute_reply.started": "2021-04-08T09:23:02.091527Z"
    }
   },
   "outputs": [],
   "source": [
    "pièce={}\n",
    "for acte in re.finditer('(ACTE .*?)\\n(.*?)--ACTE', texte, re.DOTALL):\n",
    "    titre_acte=acte.group(1)\n",
    "    texte_acte=acte.group(2)\n",
    "    pièce[titre_acte]=texte_acte"
   ]
  },
  {
   "cell_type": "markdown",
   "metadata": {},
   "source": [
    "### Exercice 2\n",
    "Quelle est l'expression régulière qui permet de décrire une scène ? Quelle est l'expression régulière qui permet de décrire une scène tout en isolant son titre de son texte ?\n",
    "\n",
    "\n",
    "Ecrire une fonction qui construit un dictionnaire `pièce` qui associe à chaque titre d'acte un dictionnaire qui associe à chaque titre de scène son texte :  \n",
    "\n",
    "```python\n",
    "{\n",
    "    'ACTE PREMIER' : {'Scène première' : \"\"\"- Valère -\n",
    "                                            Hé quoi ! charmante Élise, vous devenez mélancolique, après les\n",
    "                                            obligeantes assurances que vous avez eu la bonté de me donner de votre\n",
    "                                            foi ? Je vous vois soupire...\n",
    "                                         \"\"\",\n",
    "                      'Scène II': \"\"\"- Cléante -\n",
    "                                     Je suis bien aise de vous trouver seule, ma soeur ; et je brûlais de\n",
    "                                     vous parler, pour ...\n",
    "                                     \"\"\"\n",
    "                      }\n",
    "    \"ACTE SECOND\" : {'Scène première':\"\"\"- Cléante -\n",
    "                                         Ah ! traître que tu es ! où ...\n",
    "                                      \"\"\"\n",
    "                    }\n",
    "}\n",
    "```"
   ]
  },
  {
   "cell_type": "code",
   "execution_count": 4,
   "metadata": {
    "execution": {
     "iopub.execute_input": "2021-04-08T09:23:03.020379Z",
     "iopub.status.busy": "2021-04-08T09:23:03.019935Z",
     "iopub.status.idle": "2021-04-08T09:23:03.041459Z",
     "shell.execute_reply": "2021-04-08T09:23:03.040128Z",
     "shell.execute_reply.started": "2021-04-08T09:23:03.020329Z"
    }
   },
   "outputs": [],
   "source": [
    "pièce={}\n",
    "for acte in re.finditer('(ACTE .*?)\\n(.*?)--ACTE', texte, re.DOTALL):\n",
    "    titre_acte=acte.group(1)\n",
    "    pièce[titre_acte]={}\n",
    "    for scène in re.finditer('(Scène .*?)\\n(.*?)--Scène', acte.group(2), re.DOTALL):\n",
    "        titre_scène=scène.group(1)\n",
    "        texte_scène=scène.group(2)\n",
    "        pièce[titre_acte][titre_scène]=texte_scène"
   ]
  },
  {
   "cell_type": "markdown",
   "metadata": {},
   "source": [
    "### Exercice 3\n",
    "Quelle est l'expression régulière qui permet de décrire une réplique ? Quelle est l'expression régulière qui permet de décrire une scène tout en isolant son personnage de son texte ?\n",
    "\n",
    "Ecrire une fonction qui construit la structure complète de la pièce :\n",
    "```python\n",
    "{\n",
    "    'ACTE PREMIER' : {'Scène première' : [{'personnage' : 'Valère',\n",
    "                                           'réplique' : \"\"\"Hé quoi ! charmante Élise, vous devenez mélancolique, après les\n",
    "                                                           obligeantes assurances que ...\n",
    "                                                         \"\"\"\n",
    "                                          },\n",
    "                                          {'personnage' : 'Élise',\n",
    "                                           'réplique' : \"\"\"Non, Valère, je ne puis pas me repentir de tout ce que je fais pour\n",
    "                                                           vous. Je m'y sens entraîner par une trop douce puissance, et je n'ai\n",
    "                                                           ...\n",
    "                                                         \"\"\"\n",
    "                                          }\n",
    "                                          ],\n",
    "                      'Scène II': [{'personnage': 'Cléante',\n",
    "                                  'réplique': \"\"\"Je suis bien aise de vous trouver seule, ma soeur ; et je brûlais de\n",
    "                                                 vous parler, pour m'ouvrir à vous d'un secret.\n",
    "                                              \"\"\"\n",
    "                                  },\n",
    "                                 {'personnage': 'Élise',\n",
    "                                  'réplique': \"Me voilà prête à vous ouïr, mon frère. Qu'avez-vous à me dire ?\"\n",
    "                                 }\n",
    "                                 ]\n",
    "                      }\n",
    "}\n",
    "```"
   ]
  },
  {
   "cell_type": "code",
   "execution_count": 6,
   "metadata": {
    "execution": {
     "iopub.execute_input": "2021-04-08T09:25:13.965663Z",
     "iopub.status.busy": "2021-04-08T09:25:13.965369Z",
     "iopub.status.idle": "2021-04-08T09:25:14.038557Z",
     "shell.execute_reply": "2021-04-08T09:25:14.023117Z",
     "shell.execute_reply.started": "2021-04-08T09:25:13.965633Z"
    },
    "tags": []
   },
   "outputs": [],
   "source": [
    "pièce={}\n",
    "for acte in re.finditer('(ACTE .*?)\\n(.*?)--ACTE', texte, re.DOTALL):\n",
    "    titre_acte=acte.group(1)\n",
    "    pièce[titre_acte]={}\n",
    "    for scène in re.finditer('(Scène .*?)\\n(.*?)--Scène', acte.group(2), re.DOTALL):\n",
    "        titre_scène=scène.group(1)\n",
    "        pièce[titre_acte][titre_scène]=[]\n",
    "        for réplique in re.finditer('- (.*?) -\\n(.*?)--REPL', scène.group(2), re.DOTALL):\n",
    "            pièce[titre_acte][titre_scène].append({'personnage' : réplique.group(1), 'réplique':réplique.group(2)})"
   ]
  },
  {
   "cell_type": "code",
   "execution_count": 7,
   "metadata": {
    "execution": {
     "iopub.execute_input": "2021-04-08T09:26:20.707477Z",
     "iopub.status.busy": "2021-04-08T09:26:20.707172Z",
     "iopub.status.idle": "2021-04-08T09:26:20.727580Z",
     "shell.execute_reply": "2021-04-08T09:26:20.724513Z",
     "shell.execute_reply.started": "2021-04-08T09:26:20.707445Z"
    },
    "tags": []
   },
   "outputs": [
    {
     "data": {
      "text/plain": [
       "[{'personnage': 'Harpagon',\n",
       "  'réplique': \"Voilà un pendard de valet qui m'incommode fort ; et je ne me plais\\npoint à voir ce chien de boiteux-là. Certes, ce n'est pas une petite\\npeine que de garder chez soi une grande somme d'argent ; et\\nbienheureux qui a tout son fait bien placé, et ne conserve seulement\\nque ce qu'il faut pour sa dépense ! On n'est pas peu embarrassé à\\ninventer, dans toute une maison, une cache fidèle ; car pour moi, les\\ncoffres-forts me sont suspects, et je ne veux jamais m'y fier. Je les\\ntiens justement une franche amorce à voleurs, et c'est toujours la\\npremière chose que l'on va attaquer.\\n\"}]"
      ]
     },
     "execution_count": 7,
     "metadata": {},
     "output_type": "execute_result"
    }
   ],
   "source": [
    "pièce['ACTE PREMIER']['Scène IV']"
   ]
  },
  {
   "cell_type": "markdown",
   "metadata": {},
   "source": [
    "## Analyse des données\n",
    "Maintenant que l'on a construit notre représention de la pièce, on peut l'exploiter !\n",
    "### Exercice 4\n",
    "Constuire la liste des personnages de la pièce\n",
    "```python\n",
    "['Valère',\n",
    " 'Élise',\n",
    " 'Cléante',\n",
    " 'Harpagon',\n",
    " 'La Flèche',\n",
    " 'Maître Simon',\n",
    " 'Frosine',\n",
    " 'Maître Jacques',\n",
    " 'La Merluche',\n",
    " 'Brindavoine',\n",
    " 'Mariane',\n",
    " 'Le commissaire',\n",
    " 'Anselme']\n",
    "```"
   ]
  },
  {
   "cell_type": "code",
   "execution_count": null,
   "metadata": {},
   "outputs": [],
   "source": [
    "personnages=[]\n",
    "for acte in pièce:\n",
    "    for scène in pièce[acte]:\n",
    "        for réplique in pièce[acte][scène]:\n",
    "            if réplique['personnage'] not in personnages:\n",
    "                personnages.append(réplique['personnage'])"
   ]
  },
  {
   "cell_type": "markdown",
   "metadata": {},
   "source": [
    "### Exercice 5\n",
    "Constuire un dictionnaire qui associe à chaque personnage le nombre de caractères de l'ensemble de ses répliques\n",
    "```python\n",
    "{'Anselme': 2740,\n",
    " 'Brindavoine': 207,\n",
    " 'Cléante': 17264,\n",
    " 'Frosine': 12102,\n",
    " 'Harpagon': 31377,\n",
    " 'La Flèche': 8494,\n",
    " 'La Merluche': 289,\n",
    " 'Le commissaire': 1580,\n",
    " 'Mariane': 4753,\n",
    " 'Maître Jacques': 8545,\n",
    " 'Maître Simon': 971,\n",
    " 'Valère': 14220,\n",
    " 'Élise': 5568}\n",
    "```"
   ]
  },
  {
   "cell_type": "code",
   "execution_count": null,
   "metadata": {
    "tags": []
   },
   "outputs": [],
   "source": [
    "nCar={}\n",
    "for acte in pièce:\n",
    "    for scene in pièce[acte]:\n",
    "        for réplique in pièce[acte][scene]:\n",
    "            if réplique['personnage'] not in nCar:\n",
    "                nCar[réplique['personnage']]=0\n",
    "            nCar[réplique['personnage']]+=len(réplique['réplique'])"
   ]
  },
  {
   "cell_type": "markdown",
   "metadata": {},
   "source": [
    "### Exercice 6\n",
    "Constuire un dictionnaire qui associe à chaque personnage une liste de 5 nombres, correspondant au nombre de caractères de leurs répliques, acte par acte\n",
    "```python\n",
    "{'Anselme': [0, 0, 0, 0, 2740],\n",
    " 'Brindavoine': [0, 0, 207, 0, 0],\n",
    " 'Cléante': [5150, 2592, 3523, 5326, 673],\n",
    " 'Frosine': [0, 8340, 1520, 2214, 28],\n",
    " 'Harpagon': [9449, 3796, 6377, 5664, 6091],\n",
    " 'La Flèche': [1345, 6895, 0, 254, 0],\n",
    " 'La Merluche': [0, 0, 289, 0, 0],\n",
    " 'Le commissaire': [0, 0, 0, 0, 1580],\n",
    " 'Mariane': [0, 0, 2311, 1236, 1206],\n",
    " 'Maître Jacques': [0, 0, 5032, 1531, 1982],\n",
    " 'Maître Simon': [0, 971, 0, 0, 0],\n",
    " 'Valère': [6991, 0, 1951, 0, 5278],\n",
    " 'Élise': [4384, 0, 98, 331, 755]}\n",
    "```\n"
   ]
  },
  {
   "cell_type": "code",
   "execution_count": null,
   "metadata": {},
   "outputs": [],
   "source": [
    "comptesParActe={}\n",
    "for perso in personnages:\n",
    "    comptesParActe[perso]=[]\n",
    "    for acte in pièce:\n",
    "        comptesParActe[perso].append(0)\n",
    "        for scène in pièce[acte]:            \n",
    "            for réplique in pièce[acte][scène]:\n",
    "                if réplique['personnage']==perso:\n",
    "                    comptesParActe[perso][-1]+=len(réplique['réplique'])"
   ]
  },
  {
   "cell_type": "markdown",
   "metadata": {},
   "source": [
    "## Conversion en JSON\n",
    "JSON est un format de fichier pour enregistré des données structurées très répandu. Nous allons l'utiliser pour conserver notre structuration de la pièce## Bascule dans excel"
   ]
  },
  {
   "cell_type": "code",
   "execution_count": 6,
   "metadata": {
    "execution": {
     "iopub.execute_input": "2021-04-08T09:23:07.396471Z",
     "iopub.status.busy": "2021-04-08T09:23:07.396168Z",
     "iopub.status.idle": "2021-04-08T09:23:07.407531Z",
     "shell.execute_reply": "2021-04-08T09:23:07.406042Z",
     "shell.execute_reply.started": "2021-04-08T09:23:07.396439Z"
    }
   },
   "outputs": [],
   "source": [
    "import json"
   ]
  },
  {
   "cell_type": "code",
   "execution_count": 7,
   "metadata": {
    "execution": {
     "iopub.execute_input": "2021-04-08T09:23:07.739004Z",
     "iopub.status.busy": "2021-04-08T09:23:07.738464Z",
     "iopub.status.idle": "2021-04-08T09:23:07.765332Z",
     "shell.execute_reply": "2021-04-08T09:23:07.754304Z",
     "shell.execute_reply.started": "2021-04-08T09:23:07.738952Z"
    }
   },
   "outputs": [],
   "source": [
    "f=open('LAvare.json', 'w')\n",
    "f.write(json.dumps(pièce))\n",
    "f.close()"
   ]
  },
  {
   "cell_type": "markdown",
   "metadata": {
    "execution": {
     "iopub.execute_input": "2021-03-26T05:56:11.815501Z",
     "iopub.status.busy": "2021-03-26T05:56:11.815178Z",
     "iopub.status.idle": "2021-03-26T05:56:11.829700Z",
     "shell.execute_reply": "2021-03-26T05:56:11.824944Z",
     "shell.execute_reply.started": "2021-03-26T05:56:11.815471Z"
    }
   },
   "source": [
    "On peut ensuite recharger les données"
   ]
  },
  {
   "cell_type": "code",
   "execution_count": 8,
   "metadata": {
    "execution": {
     "iopub.execute_input": "2021-04-08T09:23:08.578323Z",
     "iopub.status.busy": "2021-04-08T09:23:08.577307Z",
     "iopub.status.idle": "2021-04-08T09:23:08.605022Z",
     "shell.execute_reply": "2021-04-08T09:23:08.602676Z",
     "shell.execute_reply.started": "2021-04-08T09:23:08.578258Z"
    },
    "tags": []
   },
   "outputs": [],
   "source": [
    "f=open('LAvare.json')\n",
    "pièce = json.loads(f.read())\n",
    "f.close()"
   ]
  },
  {
   "cell_type": "code",
   "execution_count": 9,
   "metadata": {
    "execution": {
     "iopub.execute_input": "2021-04-08T09:23:24.113789Z",
     "iopub.status.busy": "2021-04-08T09:23:24.113234Z",
     "iopub.status.idle": "2021-04-08T09:23:24.146491Z",
     "shell.execute_reply": "2021-04-08T09:23:24.143760Z",
     "shell.execute_reply.started": "2021-04-08T09:23:24.113737Z"
    }
   },
   "outputs": [
    {
     "data": {
      "text/plain": [
       "[{'personnage': 'Harpagon',\n",
       "  'réplique': \"Voilà un pendard de valet qui m'incommode fort ; et je ne me plais\\npoint à voir ce chien de boiteux-là. Certes, ce n'est pas une petite\\npeine que de garder chez soi une grande somme d'argent ; et\\nbienheureux qui a tout son fait bien placé, et ne conserve seulement\\nque ce qu'il faut pour sa dépense ! On n'est pas peu embarrassé à\\ninventer, dans toute une maison, une cache fidèle ; car pour moi, les\\ncoffres-forts me sont suspects, et je ne veux jamais m'y fier. Je les\\ntiens justement une franche amorce à voleurs, et c'est toujours la\\npremière chose que l'on va attaquer.\\n\"}]"
      ]
     },
     "execution_count": 9,
     "metadata": {},
     "output_type": "execute_result"
    }
   ],
   "source": [
    "pièce['ACTE PREMIER']['Scène IV']"
   ]
  },
  {
   "cell_type": "code",
   "execution_count": null,
   "metadata": {},
   "outputs": [],
   "source": []
  }
 ],
 "metadata": {
  "kernelspec": {
   "display_name": "pywikibot",
   "language": "python",
   "name": "python3"
  },
  "language_info": {
   "codemirror_mode": {
    "name": "ipython",
    "version": 3
   },
   "file_extension": ".py",
   "mimetype": "text/x-python",
   "name": "python",
   "nbconvert_exporter": "python",
   "pygments_lexer": "ipython3",
   "version": "3.11.0"
  },
  "vscode": {
   "interpreter": {
    "hash": "1eb28796ec1b45da7ee6a92babb3e9fc7aac8e384c439f168e799c1603ba81e7"
   }
  }
 },
 "nbformat": 4,
 "nbformat_minor": 4
}
