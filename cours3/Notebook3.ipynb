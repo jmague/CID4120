{
 "cells": [
  {
   "cell_type": "code",
   "execution_count": null,
   "metadata": {
    "colab": {
     "base_uri": "https://localhost:8080/"
    },
    "id": "xKEfntarBpz4",
    "outputId": "92132ea5-f223-45ce-9d9c-0c695a589235"
   },
   "outputs": [],
   "source": [
    "!python -m spacy download fr_core_news_sm"
   ]
  },
  {
   "cell_type": "markdown",
   "metadata": {
    "id": "_G3InnUABFhu"
   },
   "source": [
    "# Traitement de données textuelles en Python\n",
    "## Lemmatisation, étiquetage"
   ]
  },
  {
   "cell_type": "code",
   "execution_count": 1,
   "metadata": {
    "id": "uNAtXqNGBFh1"
   },
   "outputs": [],
   "source": [
    "import spacy"
   ]
  },
  {
   "cell_type": "markdown",
   "metadata": {
    "id": "IB513BGMBFh3"
   },
   "source": [
    "Cette ligne importe un modèle du français proposé par [spaCy]\n",
    "(http://www.spacy.io), une bibliothèque pour le traitement automatique des langues. Pour l'utiliser, il faut charger ce modèle, ce qui renvoie une \"fonction\" capable de traiter du texte :"
   ]
  },
  {
   "cell_type": "code",
   "execution_count": 2,
   "metadata": {
    "colab": {
     "base_uri": "https://localhost:8080/"
    },
    "id": "uByK2-yfBFh5",
    "outputId": "6390bb9f-4702-4086-f2ce-b3ca6e1bc224"
   },
   "outputs": [
    {
     "name": "stdout",
     "output_type": "stream",
     "text": [
      "<spacy.lang.fr.French object at 0x7fdc778f69d0>\n"
     ]
    }
   ],
   "source": [
    "nlp = spacy.load('fr_core_news_sm')\n",
    "print(nlp)"
   ]
  },
  {
   "cell_type": "code",
   "execution_count": 3,
   "metadata": {
    "colab": {
     "base_uri": "https://localhost:8080/"
    },
    "id": "tWkChjBmBFh7",
    "outputId": "df5c5cd1-e252-47b8-dd8d-2692c5c143c4"
   },
   "outputs": [
    {
     "data": {
      "text/plain": [
       "Nous allons prendre ce petit texte comme exemple. Que fait Spacy avec ?"
      ]
     },
     "execution_count": 3,
     "metadata": {
      "tags": []
     },
     "output_type": "execute_result"
    }
   ],
   "source": [
    "texte=\"Nous allons prendre ce petit texte comme exemple. Que fait Spacy avec ?\"\n",
    "nlp(texte)"
   ]
  },
  {
   "cell_type": "markdown",
   "metadata": {
    "id": "dgc6T8g5BFh9"
   },
   "source": [
    "De prime abord, il ne s'est pas passé grand chose. Mais en fait, ce texte a été tokenisé :"
   ]
  },
  {
   "cell_type": "code",
   "execution_count": 4,
   "metadata": {
    "colab": {
     "base_uri": "https://localhost:8080/"
    },
    "id": "G8YS17C0BFh_",
    "outputId": "8be818a8-fe74-4510-dada-aaff9933a92e"
   },
   "outputs": [
    {
     "name": "stdout",
     "output_type": "stream",
     "text": [
      "Nous\n",
      "allons\n",
      "prendre\n",
      "ce\n",
      "petit\n",
      "texte\n",
      "comme\n",
      "exemple\n",
      ".\n",
      "Que\n",
      "fait\n",
      "Spacy\n",
      "avec\n",
      "?\n"
     ]
    }
   ],
   "source": [
    "for token in nlp(texte):\n",
    "    print(token)"
   ]
  },
  {
   "cell_type": "markdown",
   "metadata": {
    "id": "oX4vkyFUBFh_"
   },
   "source": [
    "Il a également été lemmatisé :"
   ]
  },
  {
   "cell_type": "code",
   "execution_count": 5,
   "metadata": {
    "colab": {
     "base_uri": "https://localhost:8080/"
    },
    "id": "ja6T3MM0BFiA",
    "outputId": "af146438-7234-49d2-bae7-6ffc42ebfc44"
   },
   "outputs": [
    {
     "name": "stdout",
     "output_type": "stream",
     "text": [
      "Nous nous\n",
      "allons aller\n",
      "prendre prendre\n",
      "ce ce\n",
      "petit petit\n",
      "texte texte\n",
      "comme comme\n",
      "exemple exemple\n",
      ". .\n",
      "Que que\n",
      "fait faire\n",
      "Spacy spacy\n",
      "avec avec\n",
      "? ?\n"
     ]
    }
   ],
   "source": [
    "for token in nlp(texte):\n",
    "    print(token.text,token.lemma_)"
   ]
  },
  {
   "cell_type": "markdown",
   "metadata": {
    "id": "yhoAfQQNBFiC"
   },
   "source": [
    "Mais aussi étiqueté ! "
   ]
  },
  {
   "cell_type": "code",
   "execution_count": 6,
   "metadata": {
    "colab": {
     "base_uri": "https://localhost:8080/"
    },
    "id": "oYnPqE1tBFiC",
    "outputId": "fcdf1487-e92b-432d-89a7-453e9fb868e0"
   },
   "outputs": [
    {
     "name": "stdout",
     "output_type": "stream",
     "text": [
      "Nous PRON\n",
      "allons AUX\n",
      "prendre VERB\n",
      "ce DET\n",
      "petit ADJ\n",
      "texte NOUN\n",
      "comme ADP\n",
      "exemple NOUN\n",
      ". PUNCT\n",
      "Que PRON\n",
      "fait VERB\n",
      "Spacy VERB\n",
      "avec ADP\n",
      "? PUNCT\n"
     ]
    }
   ],
   "source": [
    "for token in nlp(texte):\n",
    "    print(token.text,token.pos_)"
   ]
  },
  {
   "cell_type": "markdown",
   "metadata": {
    "id": "Y-019swvBFiE"
   },
   "source": [
    "On peut aussi savoir si un token est un mot ou pas :"
   ]
  },
  {
   "cell_type": "code",
   "execution_count": 7,
   "metadata": {
    "colab": {
     "base_uri": "https://localhost:8080/"
    },
    "id": "cVsXzTr8BFiF",
    "outputId": "dcc82f5b-0263-488e-9d39-ac1118ca2964"
   },
   "outputs": [
    {
     "name": "stdout",
     "output_type": "stream",
     "text": [
      "Nous True\n",
      "allons True\n",
      "prendre True\n",
      "ce True\n",
      "petit True\n",
      "texte True\n",
      "comme True\n",
      "exemple True\n",
      ". False\n",
      "Que True\n",
      "fait True\n",
      "Spacy True\n",
      "avec True\n",
      "? False\n"
     ]
    }
   ],
   "source": [
    "for token in nlp(texte):\n",
    "    print(token.text,token.is_alpha)"
   ]
  },
  {
   "cell_type": "markdown",
   "metadata": {
    "id": "m1xyWW-QBFiG"
   },
   "source": [
    "### Exercice 1\n",
    "Reprendre L'Avare et analyser toutes les répliques de manière en en faire des listes de tokens, où chaque token est un dictionnaire donnant sa forme graphique, son lemme, sa partie du discours et indicant s'il s'agit d'un mot à proprement parler.\n",
    "```python\n",
    "{'ACTE PREMIER': {'Scène première': [{'personnage': 'Valère',\n",
    "  'réplique': [{'formeGraphique': 'Hé',\n",
    "    'is_alpha': True,\n",
    "    'lemme': 'hé',\n",
    "    'pos': 'DET'},\n",
    "   {'formeGraphique': 'quoi',\n",
    "    'is_alpha': True,\n",
    "    'lemme': 'quoi',\n",
    "    'pos': 'PRON'},\n",
    "   {'formeGraphique': '!', \n",
    "    'is_alpha': False, \n",
    "    'lemme': '!', \n",
    "    'pos': 'PUNCT'},\n",
    "   {'formeGraphique': 'charmante',\n",
    "    'is_alpha': True,\n",
    "    'lemme': 'charmant',\n",
    "    'pos': 'ADJ'},\n",
    "   {'formeGraphique': 'Élise',\n",
    "    'is_alpha': True,\n",
    "    'lemme': 'Élise',\n",
    "    'pos': 'PROPN'},\n",
    "...\n",
    "```"
   ]
  },
  {
   "cell_type": "code",
   "execution_count": 1,
   "metadata": {
    "execution": {
     "iopub.execute_input": "2021-04-09T06:36:06.036411Z",
     "iopub.status.busy": "2021-04-09T06:36:06.034693Z",
     "iopub.status.idle": "2021-04-09T06:36:06.073314Z",
     "shell.execute_reply": "2021-04-09T06:36:06.072076Z",
     "shell.execute_reply.started": "2021-04-09T06:36:06.036316Z"
    },
    "id": "TG1pHhqhBFiH"
   },
   "outputs": [],
   "source": [
    "import json\n",
    "pièce = json.loads(open('LAvare.json').read())"
   ]
  },
  {
   "cell_type": "code",
   "execution_count": null,
   "metadata": {
    "id": "TLTlryMuBFiH",
    "tags": []
   },
   "outputs": [],
   "source": [
    "for acte in pièce:\n",
    "    for scène in pièce[acte]:\n",
    "        for réplique in pièce[acte][scène]:\n",
    "            nouvelleRéplique=[]\n",
    "            for token in nlp(réplique['réplique']):\n",
    "                dictionnaire_du_token={}\n",
    "                dictionnaire_du_token['formeGraphique']=???\n",
    "                dictionnaire_du_token['pos']=???\n",
    "                dictionnaire_du_token['lemme']=???\n",
    "                dictionnaire_du_token['is_alpha']=???\n",
    "                nouvelleRéplique.append(dictionnaire_du_token)\n",
    "            réplique['réplique']=nouvelleRéplique"
   ]
  },
  {
   "cell_type": "markdown",
   "metadata": {
    "id": "kvPiCUZDBFiI"
   },
   "source": [
    "### Exercice 2 \n",
    "Quel est le nombre de tokens dans toute la pièce ?"
   ]
  },
  {
   "cell_type": "code",
   "execution_count": 9,
   "metadata": {
    "id": "JW6UOVGHBFiJ"
   },
   "outputs": [],
   "source": [
    "n=0\n",
    "for acte in pièce:\n",
    "    for scène in pièce[acte]:\n",
    "        for réplique in pièce[acte][scène]:\n",
    "            for token in réplique['réplique']:\n",
    "                ???\n",
    "n            "
   ]
  },
  {
   "cell_type": "markdown",
   "metadata": {
    "id": "00zC15QwBFiJ"
   },
   "source": [
    "### Exercice 3\n",
    "Quel est le nombre de lemmes différents ?"
   ]
  },
  {
   "cell_type": "code",
   "execution_count": 9,
   "metadata": {
    "id": "eEbrdMjKBFiK"
   },
   "outputs": [],
   "source": [
    "lemmes=[]\n",
    "for acte in pièce:\n",
    "    for scène in pièce[acte]:\n",
    "        for réplique in pièce[acte][scène]:\n",
    "            for token in réplique['réplique']:\n",
    "                ???\n",
    "len(lemmes)"
   ]
  },
  {
   "cell_type": "markdown",
   "metadata": {
    "id": "DtJER5QABFiK"
   },
   "source": [
    "### Exercice 4\n",
    "Quel est le lemme le plus fréquent ? Pour cela, construire un dictionnaire qui associe à chaque lemme sa fréquence, écrire ce dictionnaire dans un fichier csv (quel est le bon séparateur ?), l'ouvrir dans Google Spreadsheat"
   ]
  },
  {
   "cell_type": "code",
   "execution_count": null,
   "metadata": {
    "id": "uNR6go_jBFiM"
   },
   "outputs": [],
   "source": [
    "frequence = {}\n",
    "for acte in pièce:\n",
    "    for scène in pièce[acte]:\n",
    "        for réplique in pièce[acte][scène]:\n",
    "            for token in réplique['réplique']:\n",
    "                ???"
   ]
  },
  {
   "cell_type": "code",
   "execution_count": null,
   "metadata": {
    "id": "gI2rd6RkBFiM"
   },
   "outputs": [],
   "source": [
    "f=open('frequence.csv','w')\n",
    "for lemme in frequence:\n",
    "    f.write('%s\\t%d\\n'%(lemme,frequence[lemme]))\n",
    "f.close()"
   ]
  },
  {
   "cell_type": "markdown",
   "metadata": {
    "id": "QNDPWDD6BFiN"
   },
   "source": [
    "La bibliothèque `Pandas` permet de manipuler des tableaux semblables aux feuilles de calcul :"
   ]
  },
  {
   "cell_type": "code",
   "execution_count": null,
   "metadata": {
    "id": "4U5H7F8RBFiN"
   },
   "outputs": [],
   "source": [
    "import pandas as pd"
   ]
  },
  {
   "cell_type": "code",
   "execution_count": null,
   "metadata": {
    "id": "YZRcjG6CBFiO"
   },
   "outputs": [],
   "source": [
    "freq_df=pd.DataFrame({'freq':frequence})"
   ]
  },
  {
   "cell_type": "code",
   "execution_count": null,
   "metadata": {
    "id": "66zEZCunBFiO",
    "outputId": "6079fe4e-accd-4014-e703-19d70b95309b"
   },
   "outputs": [
    {
     "data": {
      "text/html": [
       "<div>\n",
       "<style scoped>\n",
       "    .dataframe tbody tr th:only-of-type {\n",
       "        vertical-align: middle;\n",
       "    }\n",
       "\n",
       "    .dataframe tbody tr th {\n",
       "        vertical-align: top;\n",
       "    }\n",
       "\n",
       "    .dataframe thead th {\n",
       "        text-align: right;\n",
       "    }\n",
       "</style>\n",
       "<table border=\"1\" class=\"dataframe\">\n",
       "  <thead>\n",
       "    <tr style=\"text-align: right;\">\n",
       "      <th></th>\n",
       "      <th>freq</th>\n",
       "    </tr>\n",
       "  </thead>\n",
       "  <tbody>\n",
       "    <tr>\n",
       "      <td></td>\n",
       "      <td>1</td>\n",
       "    </tr>\n",
       "    <tr>\n",
       "      <td>!</td>\n",
       "      <td>290</td>\n",
       "    </tr>\n",
       "    <tr>\n",
       "      <td>\"</td>\n",
       "      <td>31</td>\n",
       "    </tr>\n",
       "    <tr>\n",
       "      <td>(</td>\n",
       "      <td>17</td>\n",
       "    </tr>\n",
       "    <tr>\n",
       "      <td>)</td>\n",
       "      <td>16</td>\n",
       "    </tr>\n",
       "  </tbody>\n",
       "</table>\n",
       "</div>"
      ],
      "text/plain": [
       "   freq\n",
       "      1\n",
       "!   290\n",
       "\"    31\n",
       "(    17\n",
       ")    16"
      ]
     },
     "execution_count": 69,
     "metadata": {
      "tags": []
     },
     "output_type": "execute_result"
    }
   ],
   "source": [
    "freq_df.head(5)"
   ]
  },
  {
   "cell_type": "code",
   "execution_count": null,
   "metadata": {
    "id": "5kIIc-2VBFiP",
    "outputId": "30df1220-53e1-4374-a243-fe5a8ec8c10e"
   },
   "outputs": [
    {
     "data": {
      "text/html": [
       "<div>\n",
       "<style scoped>\n",
       "    .dataframe tbody tr th:only-of-type {\n",
       "        vertical-align: middle;\n",
       "    }\n",
       "\n",
       "    .dataframe tbody tr th {\n",
       "        vertical-align: top;\n",
       "    }\n",
       "\n",
       "    .dataframe thead th {\n",
       "        text-align: right;\n",
       "    }\n",
       "</style>\n",
       "<table border=\"1\" class=\"dataframe\">\n",
       "  <thead>\n",
       "    <tr style=\"text-align: right;\">\n",
       "      <th></th>\n",
       "      <th>freq</th>\n",
       "    </tr>\n",
       "  </thead>\n",
       "  <tbody>\n",
       "    <tr>\n",
       "      <td>,</td>\n",
       "      <td>1574</td>\n",
       "    </tr>\n",
       "    <tr>\n",
       "      <td>de</td>\n",
       "      <td>1057</td>\n",
       "    </tr>\n",
       "    <tr>\n",
       "      <td>le</td>\n",
       "      <td>975</td>\n",
       "    </tr>\n",
       "    <tr>\n",
       "      <td>.</td>\n",
       "      <td>960</td>\n",
       "    </tr>\n",
       "    <tr>\n",
       "      <td>que</td>\n",
       "      <td>802</td>\n",
       "    </tr>\n",
       "  </tbody>\n",
       "</table>\n",
       "</div>"
      ],
      "text/plain": [
       "     freq\n",
       ",    1574\n",
       "de   1057\n",
       "le    975\n",
       ".     960\n",
       "que   802"
      ]
     },
     "execution_count": 70,
     "metadata": {
      "tags": []
     },
     "output_type": "execute_result"
    }
   ],
   "source": [
    "freq_df.sort_values(by='freq', ascending=False).head(5)"
   ]
  },
  {
   "cell_type": "code",
   "execution_count": null,
   "metadata": {
    "id": "iJFvcPGLBFiP",
    "outputId": "3b8b5983-f827-4894-997f-5ee7a7f6d9c3"
   },
   "outputs": [
    {
     "name": "stdout",
     "output_type": "stream",
     "text": [
      "Il y a 2340 mots différents\n",
      "Il y a 24756 tokens\n"
     ]
    }
   ],
   "source": [
    "print('Il y a %d mots différents'%freq_df.shape[0])\n",
    "print('Il y a %d tokens'%freq_df.sum())"
   ]
  },
  {
   "cell_type": "markdown",
   "metadata": {},
   "source": [
    "Pandas permet également de lire et écrire facilement des données :"
   ]
  },
  {
   "cell_type": "code",
   "execution_count": null,
   "metadata": {},
   "outputs": [],
   "source": [
    "freq_df.to_csv('frequence.csv')"
   ]
  },
  {
   "cell_type": "code",
   "execution_count": null,
   "metadata": {},
   "outputs": [],
   "source": [
    "freq_df = pd.read_csv('frequence.csv', index_col=0)"
   ]
  },
  {
   "cell_type": "markdown",
   "metadata": {
    "id": "ulAPrFfpBFiQ"
   },
   "source": [
    "## Vocabulaire spécifique des différentes parties de la pièce"
   ]
  },
  {
   "cell_type": "markdown",
   "metadata": {
    "id": "O7CcLD8KBFiR"
   },
   "source": [
    "### Exercice 5\n",
    "Construire un dictionnaire de dictionnaire `lemmeParActe` qui donne le nombre d'occurrences de chacun des lemmes dans chacun des actes, en ne prenant en compte que les tokens qui sont réellement des mots.\n",
    "```python\n",
    "{'ACTE PREMIER': {'Adieu': 1,\n",
    " 'Anselme': 4,\n",
    " 'Après': 1,\n",
    " 'Au': 1,\n",
    " 'Bon': 1,\n",
    " 'Car': 1,\n",
    " 'De': 4,\n",
    " 'Dieu': 3,\n",
    " 'Dès': 2,\n",
    " 'Eh': 2,\n",
    " 'Enfin': 1,\n",
    "                  \n",
    "...\n",
    "                 }\n",
    "}\n",
    "```\n"
   ]
  },
  {
   "cell_type": "code",
   "execution_count": null,
   "metadata": {
    "id": "vK1x1tQBBFiR"
   },
   "outputs": [],
   "source": [
    "lemmeParActe={}\n",
    "for acte in pièce:\n",
    "    lemmeParActe[acte]={}\n",
    "    for scène in pièce[acte]:\n",
    "        for réplique in pièce[acte][scène]:\n",
    "            for token in réplique['réplique']:\n",
    "                if not token['is_alpha']:\n",
    "                    continue\n",
    "                ???"
   ]
  },
  {
   "cell_type": "markdown",
   "metadata": {
    "id": "zL_eo_YuBFiR"
   },
   "source": [
    "On peut construire un `DataFrame` à partir de ce dictionnaire. Cette table est appelée `table lexicale` :"
   ]
  },
  {
   "cell_type": "code",
   "execution_count": null,
   "metadata": {
    "id": "_KhynGuuBFiR"
   },
   "outputs": [],
   "source": [
    "table=pd.DataFrame(lemmeParActe)\n",
    "table.head()"
   ]
  },
  {
   "cell_type": "code",
   "execution_count": null,
   "metadata": {
    "id": "BOpkoQ37BFiR"
   },
   "outputs": [],
   "source": [
    "table=table.fillna(0)#Quand un lemme n'apparait pas dans un acte, c'est qu'il y apparait 0 fois !\n",
    "table.head()"
   ]
  },
  {
   "cell_type": "markdown",
   "metadata": {
    "id": "BS4lWTSlBFiS"
   },
   "source": [
    "On peut faire de sommes le long des lignes ou des colonnes"
   ]
  },
  {
   "cell_type": "code",
   "execution_count": null,
   "metadata": {
    "id": "e7BwP0IBBFiS"
   },
   "outputs": [],
   "source": [
    "table.sum()"
   ]
  },
  {
   "cell_type": "code",
   "execution_count": null,
   "metadata": {
    "id": "STLY-58KBFiS"
   },
   "outputs": [],
   "source": [
    "table.sum(axis=1)"
   ]
  },
  {
   "cell_type": "markdown",
   "metadata": {
    "id": "fDpKczoKBFiT"
   },
   "source": [
    "Ces décomptes bruts sont difficiles à interpréter car les actes n'ont pas tous la même taille. Une première manière de leur de donner plus de sens est de les diviser par le nombre de lemmes par acte, pour obtenir une fréquence:"
   ]
  },
  {
   "cell_type": "code",
   "execution_count": null,
   "metadata": {
    "id": "qb7eYptuBFiT"
   },
   "outputs": [],
   "source": [
    "freq=table/table.sum()\n",
    "freq.head()"
   ]
  },
  {
   "cell_type": "markdown",
   "metadata": {
    "id": "Q8Q3CxZEBFiT"
   },
   "source": [
    "Une mesure classique pour estimer l'importance d'un mot dans un document (ici, dans un acte) est tf-idf\n",
    "\n",
    "* **tf** signifie term frequency, la fréquence d'un terme dans un document. C'est ce que l'on vient de calculer. Plus un mot est fréquent dans un document, plus il est important pour ce document. Sauf s'il est fréquent dans tous les documents...\n",
    "\n",
    "* **idf** signifier inverse document frequency, l'inverse de la fréquence en document. La fréquence en document est la fraction de documents dans lesquels un mot apparait. Par exemple, Adieu n'apparait que dans 2 des 5 actes. Sa fréquence en document est 2/5. Plus ce nombre est petit, c'est-à-dire moins le mot est présent dans beaucoup de documents, plus il est important dans les documents dans lesquels ont le trouve.\n",
    "\n",
    "En divisant la fréquence tf par la fréquence df, on obtient une mesure de l'importance du mot dans le document. Et diviser par df correspond à multiplier par son inverse :\n",
    "\n",
    "$$\\frac{tf}{df} = tf\\cdot\\frac{1}{df} = tf\\cdot idf$$\n",
    "Avec $$idf = \\frac{1}{df} = \\frac{N}{N_{+}}$$\n",
    "$N$ étant le nombre de documents et $N_{+}$ le nombre de documents où le terme est présent.\n",
    "\n",
    "Généralement, on ne prend pas ce idf \"brut\", mais son logarithme :\n",
    "\n",
    "$$tf \\cdot idf= tf\\cdot log(\\frac{N}{N_{+}})$$"
   ]
  },
  {
   "cell_type": "markdown",
   "metadata": {
    "id": "ji9IsE-XBFiU"
   },
   "source": [
    "Comment calculer ce df ?"
   ]
  },
  {
   "cell_type": "code",
   "execution_count": null,
   "metadata": {
    "id": "ge-uzS2KBFiU"
   },
   "outputs": [],
   "source": [
    "df=table.copy()"
   ]
  },
  {
   "cell_type": "code",
   "execution_count": null,
   "metadata": {
    "id": "OuEJ1hgmBFiU",
    "outputId": "6c495504-cbd9-46fb-97f4-9325745f8c6e"
   },
   "outputs": [
    {
     "data": {
      "text/html": [
       "<div>\n",
       "<style scoped>\n",
       "    .dataframe tbody tr th:only-of-type {\n",
       "        vertical-align: middle;\n",
       "    }\n",
       "\n",
       "    .dataframe tbody tr th {\n",
       "        vertical-align: top;\n",
       "    }\n",
       "\n",
       "    .dataframe thead th {\n",
       "        text-align: right;\n",
       "    }\n",
       "</style>\n",
       "<table border=\"1\" class=\"dataframe\">\n",
       "  <thead>\n",
       "    <tr style=\"text-align: right;\">\n",
       "      <th></th>\n",
       "      <th>ACTE PREMIER</th>\n",
       "      <th>ACTE SECOND</th>\n",
       "      <th>ACTE TROISIÈME</th>\n",
       "      <th>ACTE QUATRIÈME</th>\n",
       "      <th>ACTE CINQUIÈME</th>\n",
       "    </tr>\n",
       "  </thead>\n",
       "  <tbody>\n",
       "    <tr>\n",
       "      <td>Hé</td>\n",
       "      <td>True</td>\n",
       "      <td>True</td>\n",
       "      <td>True</td>\n",
       "      <td>True</td>\n",
       "      <td>True</td>\n",
       "    </tr>\n",
       "    <tr>\n",
       "      <td>quoi</td>\n",
       "      <td>True</td>\n",
       "      <td>True</td>\n",
       "      <td>False</td>\n",
       "      <td>True</td>\n",
       "      <td>True</td>\n",
       "    </tr>\n",
       "    <tr>\n",
       "      <td>charmante</td>\n",
       "      <td>True</td>\n",
       "      <td>False</td>\n",
       "      <td>False</td>\n",
       "      <td>True</td>\n",
       "      <td>True</td>\n",
       "    </tr>\n",
       "    <tr>\n",
       "      <td>Élise</td>\n",
       "      <td>True</td>\n",
       "      <td>False</td>\n",
       "      <td>False</td>\n",
       "      <td>False</td>\n",
       "      <td>True</td>\n",
       "    </tr>\n",
       "    <tr>\n",
       "      <td>vous</td>\n",
       "      <td>True</td>\n",
       "      <td>True</td>\n",
       "      <td>True</td>\n",
       "      <td>True</td>\n",
       "      <td>True</td>\n",
       "    </tr>\n",
       "    <tr>\n",
       "      <td>...</td>\n",
       "      <td>...</td>\n",
       "      <td>...</td>\n",
       "      <td>...</td>\n",
       "      <td>...</td>\n",
       "      <td>...</td>\n",
       "    </tr>\n",
       "    <tr>\n",
       "      <td>noce</td>\n",
       "      <td>False</td>\n",
       "      <td>False</td>\n",
       "      <td>False</td>\n",
       "      <td>False</td>\n",
       "      <td>True</td>\n",
       "    </tr>\n",
       "    <tr>\n",
       "      <td>allégresse</td>\n",
       "      <td>False</td>\n",
       "      <td>False</td>\n",
       "      <td>False</td>\n",
       "      <td>False</td>\n",
       "      <td>True</td>\n",
       "    </tr>\n",
       "    <tr>\n",
       "      <td>holà</td>\n",
       "      <td>False</td>\n",
       "      <td>False</td>\n",
       "      <td>False</td>\n",
       "      <td>False</td>\n",
       "      <td>True</td>\n",
       "    </tr>\n",
       "    <tr>\n",
       "      <td>écriture</td>\n",
       "      <td>False</td>\n",
       "      <td>False</td>\n",
       "      <td>False</td>\n",
       "      <td>False</td>\n",
       "      <td>True</td>\n",
       "    </tr>\n",
       "    <tr>\n",
       "      <td>payement</td>\n",
       "      <td>False</td>\n",
       "      <td>False</td>\n",
       "      <td>False</td>\n",
       "      <td>False</td>\n",
       "      <td>True</td>\n",
       "    </tr>\n",
       "  </tbody>\n",
       "</table>\n",
       "<p>2278 rows × 5 columns</p>\n",
       "</div>"
      ],
      "text/plain": [
       "            ACTE PREMIER  ACTE SECOND  ACTE TROISIÈME  ACTE QUATRIÈME  \\\n",
       "Hé                  True         True            True            True   \n",
       "quoi                True         True           False            True   \n",
       "charmante           True        False           False            True   \n",
       "Élise               True        False           False           False   \n",
       "vous                True         True            True            True   \n",
       "...                  ...          ...             ...             ...   \n",
       "noce               False        False           False           False   \n",
       "allégresse         False        False           False           False   \n",
       "holà               False        False           False           False   \n",
       "écriture           False        False           False           False   \n",
       "payement           False        False           False           False   \n",
       "\n",
       "            ACTE CINQUIÈME  \n",
       "Hé                    True  \n",
       "quoi                  True  \n",
       "charmante             True  \n",
       "Élise                 True  \n",
       "vous                  True  \n",
       "...                    ...  \n",
       "noce                  True  \n",
       "allégresse            True  \n",
       "holà                  True  \n",
       "écriture              True  \n",
       "payement              True  \n",
       "\n",
       "[2278 rows x 5 columns]"
      ]
     },
     "execution_count": 89,
     "metadata": {
      "tags": []
     },
     "output_type": "execute_result"
    }
   ],
   "source": [
    "df>0"
   ]
  },
  {
   "cell_type": "code",
   "execution_count": null,
   "metadata": {
    "id": "wq7MHNiBBFiV"
   },
   "outputs": [],
   "source": [
    "df[df>0]=1"
   ]
  },
  {
   "cell_type": "code",
   "execution_count": null,
   "metadata": {
    "id": "UJnYYC24BFiV",
    "outputId": "9c0b6ac6-3119-4c9d-cefd-e59124dacd9e"
   },
   "outputs": [
    {
     "data": {
      "text/html": [
       "<div>\n",
       "<style scoped>\n",
       "    .dataframe tbody tr th:only-of-type {\n",
       "        vertical-align: middle;\n",
       "    }\n",
       "\n",
       "    .dataframe tbody tr th {\n",
       "        vertical-align: top;\n",
       "    }\n",
       "\n",
       "    .dataframe thead th {\n",
       "        text-align: right;\n",
       "    }\n",
       "</style>\n",
       "<table border=\"1\" class=\"dataframe\">\n",
       "  <thead>\n",
       "    <tr style=\"text-align: right;\">\n",
       "      <th></th>\n",
       "      <th>ACTE PREMIER</th>\n",
       "      <th>ACTE SECOND</th>\n",
       "      <th>ACTE TROISIÈME</th>\n",
       "      <th>ACTE QUATRIÈME</th>\n",
       "      <th>ACTE CINQUIÈME</th>\n",
       "    </tr>\n",
       "  </thead>\n",
       "  <tbody>\n",
       "    <tr>\n",
       "      <td>Hé</td>\n",
       "      <td>1.0</td>\n",
       "      <td>1.0</td>\n",
       "      <td>1.0</td>\n",
       "      <td>1.0</td>\n",
       "      <td>1.0</td>\n",
       "    </tr>\n",
       "    <tr>\n",
       "      <td>quoi</td>\n",
       "      <td>1.0</td>\n",
       "      <td>1.0</td>\n",
       "      <td>0.0</td>\n",
       "      <td>1.0</td>\n",
       "      <td>1.0</td>\n",
       "    </tr>\n",
       "    <tr>\n",
       "      <td>charmante</td>\n",
       "      <td>1.0</td>\n",
       "      <td>0.0</td>\n",
       "      <td>0.0</td>\n",
       "      <td>1.0</td>\n",
       "      <td>1.0</td>\n",
       "    </tr>\n",
       "    <tr>\n",
       "      <td>Élise</td>\n",
       "      <td>1.0</td>\n",
       "      <td>0.0</td>\n",
       "      <td>0.0</td>\n",
       "      <td>0.0</td>\n",
       "      <td>1.0</td>\n",
       "    </tr>\n",
       "    <tr>\n",
       "      <td>vous</td>\n",
       "      <td>1.0</td>\n",
       "      <td>1.0</td>\n",
       "      <td>1.0</td>\n",
       "      <td>1.0</td>\n",
       "      <td>1.0</td>\n",
       "    </tr>\n",
       "    <tr>\n",
       "      <td>...</td>\n",
       "      <td>...</td>\n",
       "      <td>...</td>\n",
       "      <td>...</td>\n",
       "      <td>...</td>\n",
       "      <td>...</td>\n",
       "    </tr>\n",
       "    <tr>\n",
       "      <td>noce</td>\n",
       "      <td>0.0</td>\n",
       "      <td>0.0</td>\n",
       "      <td>0.0</td>\n",
       "      <td>0.0</td>\n",
       "      <td>1.0</td>\n",
       "    </tr>\n",
       "    <tr>\n",
       "      <td>allégresse</td>\n",
       "      <td>0.0</td>\n",
       "      <td>0.0</td>\n",
       "      <td>0.0</td>\n",
       "      <td>0.0</td>\n",
       "      <td>1.0</td>\n",
       "    </tr>\n",
       "    <tr>\n",
       "      <td>holà</td>\n",
       "      <td>0.0</td>\n",
       "      <td>0.0</td>\n",
       "      <td>0.0</td>\n",
       "      <td>0.0</td>\n",
       "      <td>1.0</td>\n",
       "    </tr>\n",
       "    <tr>\n",
       "      <td>écriture</td>\n",
       "      <td>0.0</td>\n",
       "      <td>0.0</td>\n",
       "      <td>0.0</td>\n",
       "      <td>0.0</td>\n",
       "      <td>1.0</td>\n",
       "    </tr>\n",
       "    <tr>\n",
       "      <td>payement</td>\n",
       "      <td>0.0</td>\n",
       "      <td>0.0</td>\n",
       "      <td>0.0</td>\n",
       "      <td>0.0</td>\n",
       "      <td>1.0</td>\n",
       "    </tr>\n",
       "  </tbody>\n",
       "</table>\n",
       "<p>2278 rows × 5 columns</p>\n",
       "</div>"
      ],
      "text/plain": [
       "            ACTE PREMIER  ACTE SECOND  ACTE TROISIÈME  ACTE QUATRIÈME  \\\n",
       "Hé                   1.0          1.0             1.0             1.0   \n",
       "quoi                 1.0          1.0             0.0             1.0   \n",
       "charmante            1.0          0.0             0.0             1.0   \n",
       "Élise                1.0          0.0             0.0             0.0   \n",
       "vous                 1.0          1.0             1.0             1.0   \n",
       "...                  ...          ...             ...             ...   \n",
       "noce                 0.0          0.0             0.0             0.0   \n",
       "allégresse           0.0          0.0             0.0             0.0   \n",
       "holà                 0.0          0.0             0.0             0.0   \n",
       "écriture             0.0          0.0             0.0             0.0   \n",
       "payement             0.0          0.0             0.0             0.0   \n",
       "\n",
       "            ACTE CINQUIÈME  \n",
       "Hé                     1.0  \n",
       "quoi                   1.0  \n",
       "charmante              1.0  \n",
       "Élise                  1.0  \n",
       "vous                   1.0  \n",
       "...                    ...  \n",
       "noce                   1.0  \n",
       "allégresse             1.0  \n",
       "holà                   1.0  \n",
       "écriture               1.0  \n",
       "payement               1.0  \n",
       "\n",
       "[2278 rows x 5 columns]"
      ]
     },
     "execution_count": 91,
     "metadata": {
      "tags": []
     },
     "output_type": "execute_result"
    }
   ],
   "source": [
    "df"
   ]
  },
  {
   "cell_type": "code",
   "execution_count": null,
   "metadata": {
    "id": "mgwhCUdLBFiV",
    "outputId": "6f73de5e-cf20-4a50-a8f0-7b5a183a4f37"
   },
   "outputs": [
    {
     "data": {
      "text/plain": [
       "Hé            5.0\n",
       "quoi          4.0\n",
       "charmante     3.0\n",
       "Élise         2.0\n",
       "vous          5.0\n",
       "             ... \n",
       "noce          1.0\n",
       "allégresse    1.0\n",
       "holà          1.0\n",
       "écriture      1.0\n",
       "payement      1.0\n",
       "Length: 2278, dtype: float64"
      ]
     },
     "execution_count": 92,
     "metadata": {
      "tags": []
     },
     "output_type": "execute_result"
    }
   ],
   "source": [
    "df.sum(axis=1)"
   ]
  },
  {
   "cell_type": "code",
   "execution_count": null,
   "metadata": {
    "id": "E8yh719nBFiV"
   },
   "outputs": [],
   "source": [
    "import numpy as np\n",
    "df = np.log(5/df.sum(axis=1))"
   ]
  },
  {
   "cell_type": "code",
   "execution_count": null,
   "metadata": {
    "id": "pjO3WKveBFiW",
    "outputId": "448628c0-1c3c-4ff5-a408-cca22fba386b"
   },
   "outputs": [
    {
     "data": {
      "text/plain": [
       "Hé            0.000000\n",
       "quoi          0.223144\n",
       "charmante     0.510826\n",
       "Élise         0.916291\n",
       "vous          0.000000\n",
       "                ...   \n",
       "noce          1.609438\n",
       "allégresse    1.609438\n",
       "holà          1.609438\n",
       "écriture      1.609438\n",
       "payement      1.609438\n",
       "Length: 2278, dtype: float64"
      ]
     },
     "execution_count": 94,
     "metadata": {
      "tags": []
     },
     "output_type": "execute_result"
    }
   ],
   "source": [
    "df"
   ]
  },
  {
   "cell_type": "code",
   "execution_count": null,
   "metadata": {
    "id": "sohZ0WUvBFiX"
   },
   "outputs": [],
   "source": [
    "tfidf=freq.multiply(df,axis=0)"
   ]
  },
  {
   "cell_type": "code",
   "execution_count": null,
   "metadata": {
    "id": "tBHnGWZcBFiY",
    "outputId": "028d687c-a974-4f41-9c78-feb19b3ea42e"
   },
   "outputs": [
    {
     "data": {
      "text/html": [
       "<div>\n",
       "<style scoped>\n",
       "    .dataframe tbody tr th:only-of-type {\n",
       "        vertical-align: middle;\n",
       "    }\n",
       "\n",
       "    .dataframe tbody tr th {\n",
       "        vertical-align: top;\n",
       "    }\n",
       "\n",
       "    .dataframe thead th {\n",
       "        text-align: right;\n",
       "    }\n",
       "</style>\n",
       "<table border=\"1\" class=\"dataframe\">\n",
       "  <thead>\n",
       "    <tr style=\"text-align: right;\">\n",
       "      <th></th>\n",
       "      <th>ACTE PREMIER</th>\n",
       "      <th>ACTE SECOND</th>\n",
       "      <th>ACTE TROISIÈME</th>\n",
       "      <th>ACTE QUATRIÈME</th>\n",
       "      <th>ACTE CINQUIÈME</th>\n",
       "    </tr>\n",
       "  </thead>\n",
       "  <tbody>\n",
       "    <tr>\n",
       "      <td>avaricieux</td>\n",
       "      <td>0.001968</td>\n",
       "      <td>0.000000</td>\n",
       "      <td>0.000000</td>\n",
       "      <td>0.000000</td>\n",
       "      <td>0.000000</td>\n",
       "    </tr>\n",
       "    <tr>\n",
       "      <td>soeur</td>\n",
       "      <td>0.001868</td>\n",
       "      <td>0.000000</td>\n",
       "      <td>0.000000</td>\n",
       "      <td>0.000000</td>\n",
       "      <td>0.000250</td>\n",
       "    </tr>\n",
       "    <tr>\n",
       "      <td>dot</td>\n",
       "      <td>0.001681</td>\n",
       "      <td>0.000232</td>\n",
       "      <td>0.000000</td>\n",
       "      <td>0.000000</td>\n",
       "      <td>0.000000</td>\n",
       "    </tr>\n",
       "    <tr>\n",
       "      <td>avarice</td>\n",
       "      <td>0.001121</td>\n",
       "      <td>0.000232</td>\n",
       "      <td>0.000000</td>\n",
       "      <td>0.000000</td>\n",
       "      <td>0.000000</td>\n",
       "    </tr>\n",
       "    <tr>\n",
       "      <td>frère</td>\n",
       "      <td>0.001041</td>\n",
       "      <td>0.000000</td>\n",
       "      <td>0.000000</td>\n",
       "      <td>0.000173</td>\n",
       "      <td>0.000279</td>\n",
       "    </tr>\n",
       "    <tr>\n",
       "      <td>...</td>\n",
       "      <td>...</td>\n",
       "      <td>...</td>\n",
       "      <td>...</td>\n",
       "      <td>...</td>\n",
       "      <td>...</td>\n",
       "    </tr>\n",
       "    <tr>\n",
       "      <td>frais</td>\n",
       "      <td>0.000000</td>\n",
       "      <td>0.000232</td>\n",
       "      <td>0.000000</td>\n",
       "      <td>0.000000</td>\n",
       "      <td>0.000250</td>\n",
       "    </tr>\n",
       "    <tr>\n",
       "      <td>teint</td>\n",
       "      <td>0.000000</td>\n",
       "      <td>0.000407</td>\n",
       "      <td>0.000000</td>\n",
       "      <td>0.000000</td>\n",
       "      <td>0.000000</td>\n",
       "    </tr>\n",
       "    <tr>\n",
       "      <td>santé</td>\n",
       "      <td>0.000000</td>\n",
       "      <td>0.000232</td>\n",
       "      <td>0.000240</td>\n",
       "      <td>0.000000</td>\n",
       "      <td>0.000000</td>\n",
       "    </tr>\n",
       "    <tr>\n",
       "      <td>visage</td>\n",
       "      <td>0.000000</td>\n",
       "      <td>0.000232</td>\n",
       "      <td>0.000961</td>\n",
       "      <td>0.000000</td>\n",
       "      <td>0.000000</td>\n",
       "    </tr>\n",
       "    <tr>\n",
       "      <td>payement</td>\n",
       "      <td>0.000000</td>\n",
       "      <td>0.000000</td>\n",
       "      <td>0.000000</td>\n",
       "      <td>0.000000</td>\n",
       "      <td>0.000439</td>\n",
       "    </tr>\n",
       "  </tbody>\n",
       "</table>\n",
       "<p>2278 rows × 5 columns</p>\n",
       "</div>"
      ],
      "text/plain": [
       "            ACTE PREMIER  ACTE SECOND  ACTE TROISIÈME  ACTE QUATRIÈME  \\\n",
       "avaricieux      0.001968     0.000000        0.000000        0.000000   \n",
       "soeur           0.001868     0.000000        0.000000        0.000000   \n",
       "dot             0.001681     0.000232        0.000000        0.000000   \n",
       "avarice         0.001121     0.000232        0.000000        0.000000   \n",
       "frère           0.001041     0.000000        0.000000        0.000173   \n",
       "...                  ...          ...             ...             ...   \n",
       "frais           0.000000     0.000232        0.000000        0.000000   \n",
       "teint           0.000000     0.000407        0.000000        0.000000   \n",
       "santé           0.000000     0.000232        0.000240        0.000000   \n",
       "visage          0.000000     0.000232        0.000961        0.000000   \n",
       "payement        0.000000     0.000000        0.000000        0.000000   \n",
       "\n",
       "            ACTE CINQUIÈME  \n",
       "avaricieux        0.000000  \n",
       "soeur             0.000250  \n",
       "dot               0.000000  \n",
       "avarice           0.000000  \n",
       "frère             0.000279  \n",
       "...                    ...  \n",
       "frais             0.000250  \n",
       "teint             0.000000  \n",
       "santé             0.000000  \n",
       "visage            0.000000  \n",
       "payement          0.000439  \n",
       "\n",
       "[2278 rows x 5 columns]"
      ]
     },
     "execution_count": 97,
     "metadata": {
      "tags": []
     },
     "output_type": "execute_result"
    }
   ],
   "source": [
    "tfidf.sort_values(by='ACTE PREMIER', ascending=False)"
   ]
  },
  {
   "cell_type": "code",
   "execution_count": null,
   "metadata": {
    "id": "hnPjx6xSBFiY",
    "outputId": "360d7ff0-8154-452b-bc9f-1e34e930bc80"
   },
   "outputs": [
    {
     "data": {
      "text/html": [
       "<div>\n",
       "<style scoped>\n",
       "    .dataframe tbody tr th:only-of-type {\n",
       "        vertical-align: middle;\n",
       "    }\n",
       "\n",
       "    .dataframe tbody tr th {\n",
       "        vertical-align: top;\n",
       "    }\n",
       "\n",
       "    .dataframe thead th {\n",
       "        text-align: right;\n",
       "    }\n",
       "</style>\n",
       "<table border=\"1\" class=\"dataframe\">\n",
       "  <thead>\n",
       "    <tr style=\"text-align: right;\">\n",
       "      <th></th>\n",
       "      <th>ACTE PREMIER</th>\n",
       "      <th>ACTE SECOND</th>\n",
       "      <th>ACTE TROISIÈME</th>\n",
       "      <th>ACTE QUATRIÈME</th>\n",
       "      <th>ACTE CINQUIÈME</th>\n",
       "    </tr>\n",
       "  </thead>\n",
       "  <tbody>\n",
       "    <tr>\n",
       "      <td>prêteur</td>\n",
       "      <td>0.000000</td>\n",
       "      <td>0.003259</td>\n",
       "      <td>0.0</td>\n",
       "      <td>0.0</td>\n",
       "      <td>0.000000</td>\n",
       "    </tr>\n",
       "    <tr>\n",
       "      <td>mille</td>\n",
       "      <td>0.000625</td>\n",
       "      <td>0.002069</td>\n",
       "      <td>0.0</td>\n",
       "      <td>0.0</td>\n",
       "      <td>0.000279</td>\n",
       "    </tr>\n",
       "    <tr>\n",
       "      <td>livre</td>\n",
       "      <td>0.000187</td>\n",
       "      <td>0.001855</td>\n",
       "      <td>0.0</td>\n",
       "      <td>0.0</td>\n",
       "      <td>0.000000</td>\n",
       "    </tr>\n",
       "    <tr>\n",
       "      <td>dessus</td>\n",
       "      <td>0.000000</td>\n",
       "      <td>0.001629</td>\n",
       "      <td>0.0</td>\n",
       "      <td>0.0</td>\n",
       "      <td>0.000000</td>\n",
       "    </tr>\n",
       "    <tr>\n",
       "      <td>emprunteur</td>\n",
       "      <td>0.000000</td>\n",
       "      <td>0.001629</td>\n",
       "      <td>0.0</td>\n",
       "      <td>0.0</td>\n",
       "      <td>0.000000</td>\n",
       "    </tr>\n",
       "    <tr>\n",
       "      <td>...</td>\n",
       "      <td>...</td>\n",
       "      <td>...</td>\n",
       "      <td>...</td>\n",
       "      <td>...</td>\n",
       "      <td>...</td>\n",
       "    </tr>\n",
       "    <tr>\n",
       "      <td>fouiller</td>\n",
       "      <td>0.000328</td>\n",
       "      <td>0.000000</td>\n",
       "      <td>0.0</td>\n",
       "      <td>0.0</td>\n",
       "      <td>0.000000</td>\n",
       "    </tr>\n",
       "    <tr>\n",
       "      <td>satisfaire</td>\n",
       "      <td>0.000187</td>\n",
       "      <td>0.000000</td>\n",
       "      <td>0.0</td>\n",
       "      <td>0.0</td>\n",
       "      <td>0.000250</td>\n",
       "    </tr>\n",
       "    <tr>\n",
       "      <td>poche</td>\n",
       "      <td>0.000328</td>\n",
       "      <td>0.000000</td>\n",
       "      <td>0.0</td>\n",
       "      <td>0.0</td>\n",
       "      <td>0.000000</td>\n",
       "    </tr>\n",
       "    <tr>\n",
       "      <td>Tenez</td>\n",
       "      <td>0.000328</td>\n",
       "      <td>0.000000</td>\n",
       "      <td>0.0</td>\n",
       "      <td>0.0</td>\n",
       "      <td>0.000000</td>\n",
       "    </tr>\n",
       "    <tr>\n",
       "      <td>payement</td>\n",
       "      <td>0.000000</td>\n",
       "      <td>0.000000</td>\n",
       "      <td>0.0</td>\n",
       "      <td>0.0</td>\n",
       "      <td>0.000439</td>\n",
       "    </tr>\n",
       "  </tbody>\n",
       "</table>\n",
       "<p>2278 rows × 5 columns</p>\n",
       "</div>"
      ],
      "text/plain": [
       "            ACTE PREMIER  ACTE SECOND  ACTE TROISIÈME  ACTE QUATRIÈME  \\\n",
       "prêteur         0.000000     0.003259             0.0             0.0   \n",
       "mille           0.000625     0.002069             0.0             0.0   \n",
       "livre           0.000187     0.001855             0.0             0.0   \n",
       "dessus          0.000000     0.001629             0.0             0.0   \n",
       "emprunteur      0.000000     0.001629             0.0             0.0   \n",
       "...                  ...          ...             ...             ...   \n",
       "fouiller        0.000328     0.000000             0.0             0.0   \n",
       "satisfaire      0.000187     0.000000             0.0             0.0   \n",
       "poche           0.000328     0.000000             0.0             0.0   \n",
       "Tenez           0.000328     0.000000             0.0             0.0   \n",
       "payement        0.000000     0.000000             0.0             0.0   \n",
       "\n",
       "            ACTE CINQUIÈME  \n",
       "prêteur           0.000000  \n",
       "mille             0.000279  \n",
       "livre             0.000000  \n",
       "dessus            0.000000  \n",
       "emprunteur        0.000000  \n",
       "...                    ...  \n",
       "fouiller          0.000000  \n",
       "satisfaire        0.000250  \n",
       "poche             0.000000  \n",
       "Tenez             0.000000  \n",
       "payement          0.000439  \n",
       "\n",
       "[2278 rows x 5 columns]"
      ]
     },
     "execution_count": 103,
     "metadata": {
      "tags": []
     },
     "output_type": "execute_result"
    }
   ],
   "source": [
    "tfidf.sort_values(by='ACTE SECOND', ascending=False)"
   ]
  },
  {
   "cell_type": "markdown",
   "metadata": {
    "id": "gHaabDjhBFiZ"
   },
   "source": [
    "### Exercice 6\n",
    "Quel est le vocabulaire spécifique de chaque personnage ?"
   ]
  },
  {
   "cell_type": "code",
   "execution_count": 9,
   "metadata": {
    "id": "6OCCEfRNBFiZ"
   },
   "outputs": [],
   "source": []
  }
 ],
 "metadata": {
  "colab": {
   "name": "Notebook3.ipynb",
   "provenance": [],
   "toc_visible": true
  },
  "kernelspec": {
   "display_name": "pywikibot",
   "language": "python",
   "name": "python3"
  },
  "language_info": {
   "codemirror_mode": {
    "name": "ipython",
    "version": 3
   },
   "file_extension": ".py",
   "mimetype": "text/x-python",
   "name": "python",
   "nbconvert_exporter": "python",
   "pygments_lexer": "ipython3",
   "version": "3.11.0"
  },
  "vscode": {
   "interpreter": {
    "hash": "1eb28796ec1b45da7ee6a92babb3e9fc7aac8e384c439f168e799c1603ba81e7"
   }
  }
 },
 "nbformat": 4,
 "nbformat_minor": 4
}
