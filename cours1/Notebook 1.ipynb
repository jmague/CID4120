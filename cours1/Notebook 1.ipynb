{
 "cells": [
  {
   "cell_type": "markdown",
   "metadata": {},
   "source": [
    "# Traitement de données textuelles en Python"
   ]
  },
  {
   "cell_type": "markdown",
   "metadata": {},
   "source": [
    "## Structuration des données\n",
    "Nous allons travailler sur la pièce de Molière L'Avare.\n",
    "\n",
    "On va chercher à rendre explicites des informations qui sont représentées implicitement dans le texte (cf. diaporama).\n",
    "\n",
    "Une fois ces informations explicitées, il devient \"facile\" d'y accéder et de les exploiter. Dans notre exemple, on peut alors répondre à des questions du type : Combien de mots Harpagon prononce-t-il dans la scène 3 de l'acte 4 ?"
   ]
  },
  {
   "cell_type": "markdown",
   "metadata": {},
   "source": [
    "### \"Exercice\" 1 \n",
    "On va commencer par représenter la pièce par un dictionnaire qui associe à chaque titre d'acte le texte de l'acte :\n",
    "```python\n",
    "{\n",
    "    'ACTE PREMIER' : '''Scène première\n",
    "                        - Valère -\n",
    "                        Hé quoi ! charmante Élise, vous devenez mélancolique, après les\n",
    "                        obligeantes assurances que vous avez eu la bonté de me donner de votre\n",
    "                        foi ? Je vous vois soupire...\n",
    "                     ''',\n",
    "    \"ACTE SECOND\" : \"\"\"Scène première\n",
    "                       - Cléante -\n",
    "                       Ah ! traître que tu es ! où ...\n",
    "                    \"\"\"\n",
    "}\n",
    "```\n",
    "**Rappel:**\n",
    "\n",
    "Les chaînes de caractères sont délimitées soit par des guillemets simples ', soit par des guillemets doubles, soit par des guillemets simples ou doubles triplés."
   ]
  },
  {
   "cell_type": "code",
   "execution_count": 1,
   "metadata": {},
   "outputs": [
    {
     "data": {
      "text/plain": [
       "True"
      ]
     },
     "execution_count": 1,
     "metadata": {},
     "output_type": "execute_result"
    }
   ],
   "source": [
    "\"texte\"=='texte'=='''texte'''==\"\"\"texte\"\"\""
   ]
  },
  {
   "cell_type": "markdown",
   "metadata": {},
   "source": [
    "Pouvoir utiliser des guillemets simple ou double permet de facilement construire des chaînes qui comportent ces caractères :"
   ]
  },
  {
   "cell_type": "code",
   "execution_count": 2,
   "metadata": {},
   "outputs": [
    {
     "data": {
      "text/plain": [
       "'Je dis : \"Bonjour !\"'"
      ]
     },
     "execution_count": 2,
     "metadata": {},
     "output_type": "execute_result"
    }
   ],
   "source": [
    "\"Aujourd'dui\"\n",
    "'Je dis : \"Bonjour !\"'"
   ]
  },
  {
   "cell_type": "markdown",
   "metadata": {},
   "source": [
    "Pouvoir utiliser des guillemets simple ou double triplés permet d'avoir des chaînes de caractères sur plusieurs lignes"
   ]
  },
  {
   "cell_type": "code",
   "execution_count": 3,
   "metadata": {},
   "outputs": [
    {
     "data": {
      "text/plain": [
       "'texte sur \\nplusieurs lignes'"
      ]
     },
     "execution_count": 3,
     "metadata": {},
     "output_type": "execute_result"
    }
   ],
   "source": [
    "\"\"\"texte sur \n",
    "plusieurs lignes\"\"\""
   ]
  },
  {
   "cell_type": "code",
   "execution_count": 1,
   "metadata": {
    "execution": {
     "iopub.execute_input": "2021-03-19T12:29:24.271596Z",
     "iopub.status.busy": "2021-03-19T12:29:24.271209Z",
     "iopub.status.idle": "2021-03-19T12:29:24.295687Z",
     "shell.execute_reply": "2021-03-19T12:29:24.290006Z",
     "shell.execute_reply.started": "2021-03-19T12:29:24.271556Z"
    }
   },
   "outputs": [],
   "source": [
    "text=open('LAvare.txt', encoding='utf8') #on ouvre le fichier, on précise l'encodage de caractères au cas uù ce programme serait exécuté sous Windows\n",
    "pièce={} # La pièce est un dictionnaire, initialement vide, qui va être complété au fur et à mesure qu'on lit le fichier\n",
    "for l in text: #un fichier est itérable, ligne par ligne\n",
    "    if l[:4]=='ACTE':#La ligne commence par ACTE ? C'est qu'on débute un nouvel acte !\n",
    "        acteCourant=l.strip()#On nettoie la ligne pour obtenir le titre de l'acte\n",
    "        pièce[acteCourant]=''#Pour l'instant, le contenu de ce nouvel acte est vide\n",
    "    else:#La ligne ne commence pas par acte ?\n",
    "        pièce[acteCourant]+=l #on ajoute la ligne à l'acte que l'on est en train de construire"
   ]
  },
  {
   "cell_type": "markdown",
   "metadata": {},
   "source": [
    "### Exercice 2\n",
    "On rajoute les scènes ! On veut construire cette fois-ci construire un dictionnaire de dictionnaire : \n",
    "```python\n",
    "{\n",
    "    'ACTE PREMIER' : {'Scène première' : \"\"\"- Valère -\n",
    "                                            Hé quoi ! charmante Élise, vous devenez mélancolique, après les\n",
    "                                            obligeantes assurances que vous avez eu la bonté de me donner de votre\n",
    "                                            foi ? Je vous vois soupire...\n",
    "                                         \"\"\",\n",
    "                      'Scène II': \"\"\"- Cléante -\n",
    "                                     Je suis bien aise de vous trouver seule, ma soeur ; et je brûlais de\n",
    "                                     vous parler, pour ...\n",
    "                                     \"\"\"\n",
    "                      }\n",
    "    \"ACTE SECOND\" : {'Scène première':\"\"\"- Cléante -\n",
    "                                         Ah ! traître que tu es ! où ...\n",
    "                                      \"\"\"\n",
    "                    }\n",
    "}\n",
    "```"
   ]
  },
  {
   "cell_type": "code",
   "execution_count": null,
   "metadata": {},
   "outputs": [],
   "source": []
  },
  {
   "cell_type": "markdown",
   "metadata": {},
   "source": [
    "### Exercice 3\n",
    "On ajoute les répliques !\n",
    "```python\n",
    "{\n",
    "    'ACTE PREMIER' : {'Scène première' : [{'personnage' : 'Valère',\n",
    "                                           'réplique' : \"\"\"Hé quoi ! charmante Élise, vous devenez mélancolique, après les\n",
    "                                                           obligeantes assurances que ...\n",
    "                                                         \"\"\"\n",
    "                                          },\n",
    "                                          {'personnage' : 'Élise',\n",
    "                                           'réplique' : \"\"\"Non, Valère, je ne puis pas me repentir de tout ce que je fais pour\n",
    "                                                           vous. Je m'y sens entraîner par une trop douce puissance, et je n'ai\n",
    "                                                           ...\n",
    "                                                         \"\"\"\n",
    "                                          }\n",
    "                                          ],\n",
    "                      'Scène II': [{'personnage': 'Cléante',\n",
    "                                  'réplique': \"\"\"Je suis bien aise de vous trouver seule, ma soeur ; et je brûlais de\n",
    "                                                 vous parler, pour m'ouvrir à vous d'un secret.\n",
    "                                              \"\"\"\n",
    "                                  },\n",
    "                                 {'personnage': 'Élise',\n",
    "                                  'réplique': \"Me voilà prête à vous ouïr, mon frère. Qu'avez-vous à me dire ?\"\n",
    "                                 }\n",
    "                                 ]\n",
    "                      }\n",
    "}\n",
    "```"
   ]
  },
  {
   "cell_type": "code",
   "execution_count": null,
   "metadata": {},
   "outputs": [],
   "source": []
  },
  {
   "cell_type": "markdown",
   "metadata": {},
   "source": [
    "## Analyse des données\n",
    "Maintenant que l'on a construit notre représention de la pièce, on peut l'exploiter !\n",
    "### Exercice 4\n",
    "Constuire la liste des personnages de la pièce\n",
    "```python\n",
    "['Valère',\n",
    " 'Élise',\n",
    " 'Cléante',\n",
    " 'Harpagon',\n",
    " 'La Flèche',\n",
    " 'Maître Simon',\n",
    " 'Frosine',\n",
    " 'Maître Jacques',\n",
    " 'La Merluche',\n",
    " 'Brindavoine',\n",
    " 'Mariane',\n",
    " 'Le commissaire',\n",
    " 'Anselme']\n",
    "```"
   ]
  },
  {
   "cell_type": "code",
   "execution_count": 35,
   "metadata": {},
   "outputs": [],
   "source": []
  },
  {
   "cell_type": "markdown",
   "metadata": {},
   "source": [
    "### Exercice 5\n",
    "Constuire un dictionnaire qui associe à chaque personnage le nombre de caractères de l'ensemble de ses répliques\n",
    "```python\n",
    "{'Anselme': 2740,\n",
    " 'Brindavoine': 207,\n",
    " 'Cléante': 17264,\n",
    " 'Frosine': 12102,\n",
    " 'Harpagon': 31377,\n",
    " 'La Flèche': 8494,\n",
    " 'La Merluche': 289,\n",
    " 'Le commissaire': 1580,\n",
    " 'Mariane': 4753,\n",
    " 'Maître Jacques': 8545,\n",
    " 'Maître Simon': 971,\n",
    " 'Valère': 14220,\n",
    " 'Élise': 5568}\n",
    "```"
   ]
  },
  {
   "cell_type": "code",
   "execution_count": null,
   "metadata": {},
   "outputs": [],
   "source": []
  },
  {
   "cell_type": "markdown",
   "metadata": {},
   "source": [
    "### Exercice 6\n",
    "Constuire un dictionnaire qui associe à chaque personnage une liste de 5 nombres, correspondant au nombre de caractères de leurs répliques, acte par acte\n",
    "```python\n",
    "{'Anselme': [0, 0, 0, 0, 2740],\n",
    " 'Brindavoine': [0, 0, 207, 0, 0],\n",
    " 'Cléante': [5150, 2592, 3523, 5326, 673],\n",
    " 'Frosine': [0, 8340, 1520, 2214, 28],\n",
    " 'Harpagon': [9449, 3796, 6377, 5664, 6091],\n",
    " 'La Flèche': [1345, 6895, 0, 254, 0],\n",
    " 'La Merluche': [0, 0, 289, 0, 0],\n",
    " 'Le commissaire': [0, 0, 0, 0, 1580],\n",
    " 'Mariane': [0, 0, 2311, 1236, 1206],\n",
    " 'Maître Jacques': [0, 0, 5032, 1531, 1982],\n",
    " 'Maître Simon': [0, 971, 0, 0, 0],\n",
    " 'Valère': [6991, 0, 1951, 0, 5278],\n",
    " 'Élise': [4384, 0, 98, 331, 755]}\n",
    "```\n"
   ]
  },
  {
   "cell_type": "code",
   "execution_count": 4,
   "metadata": {
    "execution": {
     "iopub.execute_input": "2021-03-19T12:40:40.761960Z",
     "iopub.status.busy": "2021-03-19T12:40:40.761539Z",
     "iopub.status.idle": "2021-03-19T12:40:40.975928Z",
     "shell.execute_reply": "2021-03-19T12:40:40.974212Z",
     "shell.execute_reply.started": "2021-03-19T12:40:40.761915Z"
    },
    "tags": []
   },
   "outputs": [
    {
     "ename": "TypeError",
     "evalue": "string indices must be integers",
     "output_type": "error",
     "traceback": [
      "\u001b[0;31m---------------------------------------------------------------------------\u001b[0m",
      "\u001b[0;31mTypeError\u001b[0m                                 Traceback (most recent call last)",
      "\u001b[0;32m<ipython-input-4-8a1d46424556>\u001b[0m in \u001b[0;36m<module>\u001b[0;34m\u001b[0m\n\u001b[1;32m      3\u001b[0m \u001b[0;32mfor\u001b[0m \u001b[0macte\u001b[0m \u001b[0;32min\u001b[0m \u001b[0mpièce\u001b[0m\u001b[0;34m:\u001b[0m\u001b[0;34m\u001b[0m\u001b[0;34m\u001b[0m\u001b[0m\n\u001b[1;32m      4\u001b[0m     \u001b[0;32mfor\u001b[0m \u001b[0mscène\u001b[0m \u001b[0;32min\u001b[0m \u001b[0mpièce\u001b[0m\u001b[0;34m[\u001b[0m\u001b[0macte\u001b[0m\u001b[0;34m]\u001b[0m\u001b[0;34m:\u001b[0m\u001b[0;34m\u001b[0m\u001b[0;34m\u001b[0m\u001b[0m\n\u001b[0;32m----> 5\u001b[0;31m         \u001b[0;32mfor\u001b[0m \u001b[0mréplique\u001b[0m \u001b[0;32min\u001b[0m \u001b[0mpièce\u001b[0m\u001b[0;34m[\u001b[0m\u001b[0macte\u001b[0m\u001b[0;34m]\u001b[0m\u001b[0;34m[\u001b[0m\u001b[0mscène\u001b[0m\u001b[0;34m]\u001b[0m\u001b[0;34m:\u001b[0m\u001b[0;34m\u001b[0m\u001b[0;34m\u001b[0m\u001b[0m\n\u001b[0m\u001b[1;32m      6\u001b[0m             \u001b[0mpersonnage\u001b[0m \u001b[0;34m=\u001b[0m \u001b[0mréplique\u001b[0m\u001b[0;34m[\u001b[0m\u001b[0;34m'personnage'\u001b[0m\u001b[0;34m]\u001b[0m\u001b[0;34m\u001b[0m\u001b[0;34m\u001b[0m\u001b[0m\n\u001b[1;32m      7\u001b[0m             \u001b[0;32mif\u001b[0m \u001b[0mpersonnage\u001b[0m \u001b[0;32mnot\u001b[0m \u001b[0;32min\u001b[0m \u001b[0mcompteParActe\u001b[0m\u001b[0;34m:\u001b[0m\u001b[0;34m\u001b[0m\u001b[0;34m\u001b[0m\u001b[0m\n",
      "\u001b[0;31mTypeError\u001b[0m: string indices must be integers"
     ]
    }
   ],
   "source": [
    "comptesParActe={}\n",
    "nActe=0\n",
    "for acte in pièce:\n",
    "    for scène in pièce[acte]:\n",
    "        for réplique in pièce[acte][scène]:\n",
    "            personnage = réplique['personnage']\n",
    "            if personnage not in compteParActe:\n",
    "                compteParActe[personnage]=[0,0,0,0,0]\n",
    "            compteParActe[personnage][i]+=len(réplique['réplique'])\n",
    "    nActe+=1"
   ]
  },
  {
   "cell_type": "code",
   "execution_count": 6,
   "metadata": {
    "execution": {
     "iopub.execute_input": "2021-03-19T12:45:07.290196Z",
     "iopub.status.busy": "2021-03-19T12:45:07.289789Z",
     "iopub.status.idle": "2021-03-19T12:45:07.342955Z",
     "shell.execute_reply": "2021-03-19T12:45:07.322594Z",
     "shell.execute_reply.started": "2021-03-19T12:45:07.290154Z"
    },
    "tags": []
   },
   "outputs": [
    {
     "ename": "TypeError",
     "evalue": "string indices must be integers",
     "output_type": "error",
     "traceback": [
      "\u001b[0;31m---------------------------------------------------------------------------\u001b[0m",
      "\u001b[0;31mTypeError\u001b[0m                                 Traceback (most recent call last)",
      "\u001b[0;32m<ipython-input-6-8a1d46424556>\u001b[0m in \u001b[0;36m<module>\u001b[0;34m\u001b[0m\n\u001b[1;32m      3\u001b[0m \u001b[0;32mfor\u001b[0m \u001b[0macte\u001b[0m \u001b[0;32min\u001b[0m \u001b[0mpièce\u001b[0m\u001b[0;34m:\u001b[0m\u001b[0;34m\u001b[0m\u001b[0;34m\u001b[0m\u001b[0m\n\u001b[1;32m      4\u001b[0m     \u001b[0;32mfor\u001b[0m \u001b[0mscène\u001b[0m \u001b[0;32min\u001b[0m \u001b[0mpièce\u001b[0m\u001b[0;34m[\u001b[0m\u001b[0macte\u001b[0m\u001b[0;34m]\u001b[0m\u001b[0;34m:\u001b[0m\u001b[0;34m\u001b[0m\u001b[0;34m\u001b[0m\u001b[0m\n\u001b[0;32m----> 5\u001b[0;31m         \u001b[0;32mfor\u001b[0m \u001b[0mréplique\u001b[0m \u001b[0;32min\u001b[0m \u001b[0mpièce\u001b[0m\u001b[0;34m[\u001b[0m\u001b[0macte\u001b[0m\u001b[0;34m]\u001b[0m\u001b[0;34m[\u001b[0m\u001b[0mscène\u001b[0m\u001b[0;34m]\u001b[0m\u001b[0;34m:\u001b[0m\u001b[0;34m\u001b[0m\u001b[0;34m\u001b[0m\u001b[0m\n\u001b[0m\u001b[1;32m      6\u001b[0m             \u001b[0mpersonnage\u001b[0m \u001b[0;34m=\u001b[0m \u001b[0mréplique\u001b[0m\u001b[0;34m[\u001b[0m\u001b[0;34m'personnage'\u001b[0m\u001b[0;34m]\u001b[0m\u001b[0;34m\u001b[0m\u001b[0;34m\u001b[0m\u001b[0m\n\u001b[1;32m      7\u001b[0m             \u001b[0;32mif\u001b[0m \u001b[0mpersonnage\u001b[0m \u001b[0;32mnot\u001b[0m \u001b[0;32min\u001b[0m \u001b[0mcompteParActe\u001b[0m\u001b[0;34m:\u001b[0m\u001b[0;34m\u001b[0m\u001b[0;34m\u001b[0m\u001b[0m\n",
      "\u001b[0;31mTypeError\u001b[0m: string indices must be integers"
     ]
    }
   ],
   "source": [
    "comptesParActe={}\n",
    "nActe=0\n",
    "for acte in pièce:\n",
    "    for scène in pièce[acte]:\n",
    "        for réplique in pièce[acte][scène]:\n",
    "            personnage = réplique['personnage']\n",
    "            if personnage not in compteParActe:\n",
    "                compteParActe[personnage]=[0,0,0,0,0]\n",
    "            compteParActe[personnage][i]+=len(réplique['réplique'])\n",
    "    nActe+=1"
   ]
  },
  {
   "cell_type": "markdown",
   "metadata": {},
   "source": [
    "## Bascule dans excel"
   ]
  },
  {
   "cell_type": "code",
   "execution_count": 48,
   "metadata": {},
   "outputs": [],
   "source": [
    "f = open('comptesParActe.csv', 'w')\n",
    "f.write('Nom,Acte 1,Acte 2,Acte 3,Acte 4,Acte 5\\n')\n",
    "for perso in comptesParActe:\n",
    "    f.write(perso)\n",
    "    for n in comptesParActe[perso]:\n",
    "        f.write(',%d'%n)\n",
    "    f.write('\\n')\n",
    "f.close()"
   ]
  }
 ],
 "metadata": {
  "kernelspec": {
   "display_name": "pywikibot",
   "language": "python",
   "name": "python3"
  },
  "language_info": {
   "codemirror_mode": {
    "name": "ipython",
    "version": 3
   },
   "file_extension": ".py",
   "mimetype": "text/x-python",
   "name": "python",
   "nbconvert_exporter": "python",
   "pygments_lexer": "ipython3",
   "version": "3.11.0"
  },
  "vscode": {
   "interpreter": {
    "hash": "1eb28796ec1b45da7ee6a92babb3e9fc7aac8e384c439f168e799c1603ba81e7"
   }
  }
 },
 "nbformat": 4,
 "nbformat_minor": 4
}
