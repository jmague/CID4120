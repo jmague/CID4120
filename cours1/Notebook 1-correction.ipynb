{
 "cells": [
  {
   "cell_type": "markdown",
   "metadata": {},
   "source": [
    "# Traitement de données textuelles en Python"
   ]
  },
  {
   "cell_type": "markdown",
   "metadata": {},
   "source": [
    "## Structuration des données\n",
    "Nous allons travailler sur la pièce de Molière L'Avare.\n",
    "\n",
    "On va chercher à rendre explicites des informations qui sont représentées implicitement dans le texte (cf. diaporama).\n",
    "\n",
    "Une fois ces informations explicitées, il devient \"facile\" d'y accéder et de les exploiter. Dans notre exemple, on peut alors répondre à des questions du type : Combien de mots Harpagon prononce-t-il dans la scène 3 de l'acte 4 ?"
   ]
  },
  {
   "cell_type": "markdown",
   "metadata": {},
   "source": [
    "### \"Exercice\" 1 \n",
    "On va commencer par représenter la pièce par un dictionnaire qui associe à chaque titre d'acte le texte de l'acte :\n",
    "```python\n",
    "{\n",
    "    'ACTE PREMIER' : '''Scène première\n",
    "                        - Valère -\n",
    "                        Hé quoi ! charmante Élise, vous devenez mélancolique, après les\n",
    "                        obligeantes assurances que vous avez eu la bonté de me donner de votre\n",
    "                        foi ? Je vous vois soupire...\n",
    "                     ''',\n",
    "    \"ACTE SECOND\" : \"\"\"Scène première\n",
    "                       - Cléante -\n",
    "                       Ah ! traître que tu es ! où ...\n",
    "                    \"\"\"\n",
    "}\n",
    "```\n",
    "**Rappel:**\n",
    "\n",
    "Les chaînes de caractères sont délimitées soit par des guillemets simples ', soit par des guillemets doubles, soit par des guillemets simples ou doubles triplés."
   ]
  },
  {
   "cell_type": "code",
   "execution_count": 4,
   "metadata": {},
   "outputs": [
    {
     "data": {
      "text/plain": [
       "True"
      ]
     },
     "execution_count": 4,
     "metadata": {},
     "output_type": "execute_result"
    }
   ],
   "source": [
    "\"texte\"=='texte'=='''texte'''==\"\"\"texte\"\"\""
   ]
  },
  {
   "cell_type": "markdown",
   "metadata": {},
   "source": [
    "Pouvoir utiliser des guillemets simple ou double permet de facilement construire des chaînes qui comportent ces caractères :"
   ]
  },
  {
   "cell_type": "code",
   "execution_count": 7,
   "metadata": {},
   "outputs": [
    {
     "data": {
      "text/plain": [
       "'Je dis : \"Bonjour !\"'"
      ]
     },
     "execution_count": 7,
     "metadata": {},
     "output_type": "execute_result"
    }
   ],
   "source": [
    "\"Aujourd'dui\"\n",
    "'Je dis : \"Bonjour !\"'"
   ]
  },
  {
   "cell_type": "markdown",
   "metadata": {},
   "source": [
    "Pouvoir utiliser des guillemets simple ou double triplés permet d'avoir des chaînes de caractères sur plusieurs lignes"
   ]
  },
  {
   "cell_type": "code",
   "execution_count": 9,
   "metadata": {},
   "outputs": [
    {
     "data": {
      "text/plain": [
       "'texte sur \\nplusieurs lignes'"
      ]
     },
     "execution_count": 9,
     "metadata": {},
     "output_type": "execute_result"
    }
   ],
   "source": [
    "\"\"\"texte sur \n",
    "plusieurs lignes\"\"\""
   ]
  },
  {
   "cell_type": "code",
   "execution_count": 1,
   "metadata": {},
   "outputs": [],
   "source": [
    "text=open('LAvare.txt', encoding='utf8') #on ouvre le fichier, on précise l'encodage de caractères \n",
    "pièce={} # La pièce est un dictionnaire, initialement vide, qui va être complété au fur et à mesure qu'on lit le fichier\n",
    "for l in text: #un fichier est itérable, ligne par ligne\n",
    "    if l[:4]=='ACTE':#La ligne commence par ACTE ? C'est qu'on débute un nouvel acte !\n",
    "        acteCourant=l.strip()#On nettoie la ligne pour obtenir le titre de l'acte\n",
    "        pièce[acteCourant]=''#Pour l'instant, le contenu de ce nouvel acte est vide\n",
    "    else:#La ligne ne commence pas par acte ?\n",
    "        pièce[acteCourant]+=l #on ajoute la ligne à l'acte que l'on est en train de construire"
   ]
  },
  {
   "cell_type": "markdown",
   "metadata": {},
   "source": [
    "### Exercice 2\n",
    "On rajoute les scènes ! On veut construire cette fois-ci construire un dictionnaire de dictionnaire : \n",
    "```python\n",
    "{\n",
    "    'ACTE PREMIER' : {'Scène première' : \"\"\"- Valère -\n",
    "                                            Hé quoi ! charmante Élise, vous devenez mélancolique, après les\n",
    "                                            obligeantes assurances que vous avez eu la bonté de me donner de votre\n",
    "                                            foi ? Je vous vois soupire...\n",
    "                                         \"\"\",\n",
    "                      'Scène II': \"\"\"- Cléante -\n",
    "                                     Je suis bien aise de vous trouver seule, ma soeur ; et je brûlais de\n",
    "                                     vous parler, pour ...\n",
    "                                     \"\"\"\n",
    "                      }\n",
    "    \"ACTE SECOND\" : {'Scène première':\"\"\"- Cléante -\n",
    "                                         Ah ! traître que tu es ! où ...\n",
    "                                      \"\"\"\n",
    "                    }\n",
    "}\n",
    "```"
   ]
  },
  {
   "cell_type": "code",
   "execution_count": 4,
   "metadata": {},
   "outputs": [],
   "source": [
    "text=open('LAvare.txt', encoding='utf8')\n",
    "pièce={} \n",
    "for l in text: \n",
    "    if l[:4]=='ACTE':\n",
    "        acteCourant=l.strip()\n",
    "        pièce[acteCourant]={}\n",
    "    elif l[:5]=='Scène':\n",
    "        scèneCourante=l.strip()\n",
    "        pièce[acteCourant][scèneCourante]=''\n",
    "    else:\n",
    "        pièce[acteCourant][scèneCourante]+=l.strip()"
   ]
  },
  {
   "cell_type": "markdown",
   "metadata": {},
   "source": [
    "### Exercice 3\n",
    "On ajoute les répliques !\n",
    "```python\n",
    "{\n",
    "    'ACTE PREMIER' : {'Scène première' : [{'personnage' : 'Valère',\n",
    "                                           'réplique' : \"\"\"Hé quoi ! charmante Élise, vous devenez mélancolique, après les\n",
    "                                                           obligeantes assurances que ...\n",
    "                                                         \"\"\"\n",
    "                                          },\n",
    "                                          {'personnage' : 'Élise',\n",
    "                                           'réplique' : \"\"\"Non, Valère, je ne puis pas me repentir de tout ce que je fais pour\n",
    "                                                           vous. Je m'y sens entraîner par une trop douce puissance, et je n'ai\n",
    "                                                           ...\n",
    "                                                         \"\"\"\n",
    "                                          }\n",
    "                                          ],\n",
    "                      'Scène II': [{'personnage': 'Cléante',\n",
    "                                  'réplique': \"\"\"Je suis bien aise de vous trouver seule, ma soeur ; et je brûlais de\n",
    "                                                 vous parler, pour m'ouvrir à vous d'un secret.\n",
    "                                              \"\"\"\n",
    "                                  },\n",
    "                                 {'personnage': 'Élise',\n",
    "                                  'réplique': \"Me voilà prête à vous ouïr, mon frère. Qu'avez-vous à me dire ?\"\n",
    "                                 }\n",
    "                                 ]\n",
    "                      }\n",
    "}\n",
    "```"
   ]
  },
  {
   "cell_type": "code",
   "execution_count": 1,
   "metadata": {
    "execution": {
     "iopub.execute_input": "2021-03-19T12:42:21.212561Z",
     "iopub.status.busy": "2021-03-19T12:42:21.212148Z",
     "iopub.status.idle": "2021-03-19T12:42:21.245164Z",
     "shell.execute_reply": "2021-03-19T12:42:21.244350Z",
     "shell.execute_reply.started": "2021-03-19T12:42:21.212517Z"
    }
   },
   "outputs": [],
   "source": [
    "text=open('LAvare.txt', encoding='utf8')\n",
    "pièce={}\n",
    "repliqueCourante=None #Une réplique est un dictionnaire. \n",
    "#Cette variable contiendra le dictionnaire correspondant a la réplique en train d'être lue\n",
    "#Pour le moment, on n'a pas débuté, aucune réplique n'est en cours de construction\n",
    "for l in text:\n",
    "    if l[:4]=='ACTE':#On commence la lecture d'un nouvel acte\n",
    "        if repliqueCourante is not None:#Si ce n'est pas 1er, le début de ce nouvel acte marque la fin d'une réplique\n",
    "            pièce[acteCourant][scèneCourante].append(repliqueCourante)# on range donc la réplique qui vient d'être achevée\n",
    "            repliqueCourante=None #et on repart sans réplique\n",
    "        acteCourant=l.strip()#on récupère le nom de l'acte\n",
    "        pièce[acteCourant]={}#on crée l'acte dans la pièce\n",
    "    elif l[:5]=='Scène':#On commence la lecture d'une nouvelle scène\n",
    "        if repliqueCourante is not None:#Si ce n'est pas la première scène, c'est donc la fin d'une réplique\n",
    "            pièce[acteCourant][scèneCourante].append(repliqueCourante)# on range donc la réplique qui vient d'être achevée\n",
    "            repliqueCourante=None#et on repart sans réplique\n",
    "        scèneCourante=l.strip()#on récupère le nom de la scène\n",
    "        pièce[acteCourant][scèneCourante]=[]#on crée la scène dans l'acte\n",
    "    elif l[0]=='-':#On commence la lecture d'une nouvelle réplique\n",
    "        if repliqueCourante is not None:#Si ce n'est pas la première réplique, c'est que la précédente est achevée\n",
    "            pièce[acteCourant][scèneCourante].append(repliqueCourante)# on range donc la réplique qui vient d'être achevée\n",
    "        personnage=l[2:-3]#on récupère le nom du personnage\n",
    "        repliqueCourante={'personnage':personnage, 'réplique':''}#on crée la réplique ; pour l'instant, le texte est vide\n",
    "    else:#On est en train de lire une réplique\n",
    "        repliqueCourante['réplique']+=l #on ajoute le texte de la réplique a la réplique en cours de construction"
   ]
  },
  {
   "cell_type": "markdown",
   "metadata": {},
   "source": [
    "## Analyse des données\n",
    "Maintenant que l'on a construit notre représention de la pièce, on peut l'exploiter !\n",
    "### Exercice 4\n",
    "Constuire la liste des personnages de la pièce"
   ]
  },
  {
   "cell_type": "code",
   "execution_count": 2,
   "metadata": {
    "execution": {
     "iopub.execute_input": "2021-03-19T12:42:53.845376Z",
     "iopub.status.busy": "2021-03-19T12:42:53.844834Z",
     "iopub.status.idle": "2021-03-19T12:42:53.855338Z",
     "shell.execute_reply": "2021-03-19T12:42:53.852233Z",
     "shell.execute_reply.started": "2021-03-19T12:42:53.845320Z"
    }
   },
   "outputs": [],
   "source": [
    "personnages=[]\n",
    "for acte in pièce:\n",
    "    for scène in pièce[acte]:\n",
    "        for réplique in pièce[acte][scène]:\n",
    "            if réplique['personnage'] not in personnages:\n",
    "                personnages.append(réplique['personnage'])"
   ]
  },
  {
   "cell_type": "code",
   "execution_count": 3,
   "metadata": {
    "execution": {
     "iopub.execute_input": "2021-03-19T12:42:54.044829Z",
     "iopub.status.busy": "2021-03-19T12:42:54.042775Z",
     "iopub.status.idle": "2021-03-19T12:42:54.082495Z",
     "shell.execute_reply": "2021-03-19T12:42:54.076970Z",
     "shell.execute_reply.started": "2021-03-19T12:42:54.044769Z"
    }
   },
   "outputs": [
    {
     "data": {
      "text/plain": [
       "['Valère',\n",
       " 'Élise',\n",
       " 'Cléante',\n",
       " 'Harpagon',\n",
       " 'La Flèche',\n",
       " 'Maître Simon',\n",
       " 'Frosine',\n",
       " 'Maître Jacques',\n",
       " 'La Merluche',\n",
       " 'Brindavoine',\n",
       " 'Mariane',\n",
       " 'Le commissaire',\n",
       " 'Anselme']"
      ]
     },
     "execution_count": 3,
     "metadata": {},
     "output_type": "execute_result"
    }
   ],
   "source": [
    "personnages"
   ]
  },
  {
   "cell_type": "markdown",
   "metadata": {},
   "source": [
    "### Exercice 5\n",
    "Constuire un dictionnaire qui associe à chaque personnage le nombre de caractères de l'ensemble de ses répliques"
   ]
  },
  {
   "cell_type": "code",
   "execution_count": 5,
   "metadata": {
    "execution": {
     "iopub.execute_input": "2021-03-19T12:43:46.288675Z",
     "iopub.status.busy": "2021-03-19T12:43:46.288352Z",
     "iopub.status.idle": "2021-03-19T12:43:46.309581Z",
     "shell.execute_reply": "2021-03-19T12:43:46.294385Z",
     "shell.execute_reply.started": "2021-03-19T12:43:46.288642Z"
    },
    "tags": []
   },
   "outputs": [],
   "source": [
    "nCaractèresParPersonnage = {}\n",
    "for acte in pièce:\n",
    "  for scène in pièce[acte]:\n",
    "    for réplique in pièce[acte][scène]:\n",
    "      if réplique['personnage'] not in nCaractèresParPersonnage:\n",
    "        nCaractèresParPersonnage[réplique['personnage']] = 0\n",
    "      nCaractèresParPersonnage[réplique['personnage']] += len(réplique['réplique'])"
   ]
  },
  {
   "cell_type": "code",
   "execution_count": 7,
   "metadata": {
    "execution": {
     "iopub.execute_input": "2021-03-19T12:43:51.709162Z",
     "iopub.status.busy": "2021-03-19T12:43:51.708850Z",
     "iopub.status.idle": "2021-03-19T12:43:51.725366Z",
     "shell.execute_reply": "2021-03-19T12:43:51.724068Z",
     "shell.execute_reply.started": "2021-03-19T12:43:51.709131Z"
    },
    "tags": []
   },
   "outputs": [
    {
     "data": {
      "text/plain": [
       "{'Valère': 14220,\n",
       " 'Élise': 5568,\n",
       " 'Cléante': 17264,\n",
       " 'Harpagon': 31377,\n",
       " 'La Flèche': 8494,\n",
       " 'Maître Simon': 971,\n",
       " 'Frosine': 12102,\n",
       " 'Maître Jacques': 8545,\n",
       " 'La Merluche': 289,\n",
       " 'Brindavoine': 207,\n",
       " 'Mariane': 4753,\n",
       " 'Le commissaire': 1580,\n",
       " 'Anselme': 2740}"
      ]
     },
     "execution_count": 7,
     "metadata": {},
     "output_type": "execute_result"
    }
   ],
   "source": [
    "nCaractèresParPersonnage"
   ]
  },
  {
   "cell_type": "markdown",
   "metadata": {},
   "source": [
    "### Exercice 6\n",
    "Constuire un dictionnaire qui associe à chaque personnage une liste de 5 nombres, correspondant au nombre de caractères de leurs répliques, acte par acte\n",
    "```python\n",
    "{'Anselme': [0, 0, 0, 0, 2740],\n",
    " 'Brindavoine': [0, 0, 207, 0, 0],\n",
    " 'Cléante': [5150, 2592, 3523, 5326, 673],\n",
    " 'Frosine': [0, 8340, 1520, 2214, 28],\n",
    " 'Harpagon': [9449, 3796, 6377, 5664, 6091],\n",
    " 'La Flèche': [1345, 6895, 0, 254, 0],\n",
    " 'La Merluche': [0, 0, 289, 0, 0],\n",
    " 'Le commissaire': [0, 0, 0, 0, 1580],\n",
    " 'Mariane': [0, 0, 2311, 1236, 1206],\n",
    " 'Maître Jacques': [0, 0, 5032, 1531, 1982],\n",
    " 'Maître Simon': [0, 971, 0, 0, 0],\n",
    " 'Valère': [6991, 0, 1951, 0, 5278],\n",
    " 'Élise': [4384, 0, 98, 331, 755]}\n",
    "```\n"
   ]
  },
  {
   "cell_type": "code",
   "execution_count": 15,
   "metadata": {
    "execution": {
     "iopub.execute_input": "2021-03-19T12:46:22.056724Z",
     "iopub.status.busy": "2021-03-19T12:46:22.056138Z",
     "iopub.status.idle": "2021-03-19T12:46:22.094594Z",
     "shell.execute_reply": "2021-03-19T12:46:22.078050Z",
     "shell.execute_reply.started": "2021-03-19T12:46:22.056677Z"
    },
    "tags": []
   },
   "outputs": [],
   "source": [
    "comptesParActe={}\n",
    "nActe=0\n",
    "for acte in pièce:\n",
    "    for scène in pièce[acte]:\n",
    "        for réplique in pièce[acte][scène]:\n",
    "            personnage = réplique['personnage']\n",
    "            if personnage not in comptesParActe:\n",
    "                comptesParActe[personnage]=[0,0,0,0,0]\n",
    "            comptesParActe[personnage][nActe]+=len(réplique['réplique'])\n",
    "    nActe+=1"
   ]
  },
  {
   "cell_type": "code",
   "execution_count": 14,
   "metadata": {
    "execution": {
     "iopub.execute_input": "2021-03-19T12:45:47.351658Z",
     "iopub.status.busy": "2021-03-19T12:45:47.351007Z",
     "iopub.status.idle": "2021-03-19T12:45:47.385624Z",
     "shell.execute_reply": "2021-03-19T12:45:47.382109Z",
     "shell.execute_reply.started": "2021-03-19T12:45:47.351610Z"
    }
   },
   "outputs": [
    {
     "data": {
      "text/plain": [
       "{'Valère': [6991, 0, 1951, 0, 5278],\n",
       " 'Élise': [4384, 0, 98, 331, 755],\n",
       " 'Cléante': [5150, 2592, 3523, 5326, 673],\n",
       " 'Harpagon': [9449, 3796, 6377, 5664, 6091],\n",
       " 'La Flèche': [1345, 6895, 0, 254, 0],\n",
       " 'Maître Simon': [0, 971, 0, 0, 0],\n",
       " 'Frosine': [0, 8340, 1520, 2214, 28],\n",
       " 'Maître Jacques': [0, 0, 5032, 1531, 1982],\n",
       " 'La Merluche': [0, 0, 289, 0, 0],\n",
       " 'Brindavoine': [0, 0, 207, 0, 0],\n",
       " 'Mariane': [0, 0, 2311, 1236, 1206],\n",
       " 'Le commissaire': [0, 0, 0, 0, 1580],\n",
       " 'Anselme': [0, 0, 0, 0, 2740]}"
      ]
     },
     "execution_count": 14,
     "metadata": {},
     "output_type": "execute_result"
    }
   ],
   "source": [
    "comptesParActe"
   ]
  },
  {
   "cell_type": "markdown",
   "metadata": {},
   "source": [
    "## Bascule dans excel"
   ]
  },
  {
   "cell_type": "code",
   "execution_count": 113,
   "metadata": {},
   "outputs": [],
   "source": [
    "f = open('comptesParActe.csv', 'w', encoding='utf8')\n",
    "f.write('Nom,Acte 1,Acte 2,Acte 3,Acte 4,Acte 5\\n')\n",
    "for perso in comptesParActe:\n",
    "    f.write(perso)\n",
    "    for n in comptesParActe[perso]:\n",
    "        f.write(','+str(n))\n",
    "    f.write('\\n')\n",
    "f.close()"
   ]
  },
  {
   "cell_type": "code",
   "execution_count": null,
   "metadata": {},
   "outputs": [],
   "source": []
  }
 ],
 "metadata": {
  "kernelspec": {
   "display_name": "Python 3",
   "language": "python",
   "name": "python3"
  },
  "language_info": {
   "codemirror_mode": {
    "name": "ipython",
    "version": 3
   },
   "file_extension": ".py",
   "mimetype": "text/x-python",
   "name": "python",
   "nbconvert_exporter": "python",
   "pygments_lexer": "ipython3",
   "version": "3.8.3"
  }
 },
 "nbformat": 4,
 "nbformat_minor": 4
}
